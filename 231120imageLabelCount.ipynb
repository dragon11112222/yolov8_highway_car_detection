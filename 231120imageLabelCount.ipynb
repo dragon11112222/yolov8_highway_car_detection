{
 "cells": [
  {
   "cell_type": "code",
   "execution_count": 4,
   "metadata": {},
   "outputs": [
    {
     "data": {
      "text/plain": [
       "51"
      ]
     },
     "execution_count": 4,
     "metadata": {},
     "output_type": "execute_result"
    }
   ],
   "source": [
    "from glob import glob\n",
    "import os\n",
    "\n",
    "basePath = 'highway/valid/label/'\n",
    "\n",
    "valid_filename = []\n",
    "for filepath in glob(os.path.join(basePath, '*.xml')):\n",
    "    filename = os.path.basename(filepath)  ## 상위폴더 경로 제거\n",
    "    filename = filename[:-4]  ## .xml 제거\n",
    "    valid_filename.append(filename)\n",
    "\n",
    "len(valid_filename)"
   ]
  },
  {
   "cell_type": "code",
   "execution_count": 5,
   "metadata": {},
   "outputs": [
    {
     "name": "stdout",
     "output_type": "stream",
     "text": [
      "150\n",
      "150\n",
      "50\n",
      "50\n",
      "150\n",
      "230\n",
      "150\n",
      "100\n",
      "50\n",
      "150\n",
      "230\n",
      "150\n",
      "100\n",
      "100\n",
      "150\n",
      "149\n",
      "150\n",
      "150\n",
      "625\n",
      "150\n",
      "150\n",
      "150\n",
      "150\n",
      "50\n",
      "150\n",
      "150\n",
      "150\n",
      "100\n",
      "50\n",
      "50\n",
      "150\n",
      "150\n",
      "150\n",
      "625\n",
      "150\n",
      "150\n",
      "150\n",
      "150\n",
      "625\n",
      "147\n",
      "149\n",
      "150\n",
      "150\n",
      "625\n",
      "150\n",
      "150\n",
      "150\n",
      "150\n",
      "624\n",
      "31\n",
      "224\n"
     ]
    }
   ],
   "source": [
    "for folder in valid_filename:\n",
    "    folderPath = os.path.join(basePath, folder)\n",
    "    filepathList = glob(os.path.join(folderPath, '*'))\n",
    "    print(len(filepathList))"
   ]
  },
  {
   "cell_type": "code",
   "execution_count": 7,
   "metadata": {},
   "outputs": [
    {
     "name": "stdout",
     "output_type": "stream",
     "text": [
      "150\n",
      "0\n",
      "0\n",
      "0\n",
      "0\n",
      "0\n",
      "150\n",
      "0\n",
      "0\n",
      "0\n",
      "0\n",
      "150\n",
      "0\n",
      "0\n",
      "0\n",
      "0\n",
      "0\n",
      "0\n",
      "0\n",
      "0\n",
      "0\n",
      "0\n",
      "0\n",
      "0\n",
      "0\n",
      "0\n",
      "0\n",
      "0\n",
      "0\n",
      "0\n",
      "0\n",
      "0\n",
      "0\n",
      "0\n",
      "0\n",
      "0\n",
      "0\n",
      "0\n",
      "0\n",
      "0\n",
      "0\n",
      "0\n",
      "0\n",
      "0\n",
      "0\n",
      "0\n",
      "0\n",
      "0\n",
      "0\n",
      "0\n",
      "0\n"
     ]
    }
   ],
   "source": [
    "basePath_image = 'highway/valid/image/'\n",
    "\n",
    "for folder in valid_filename:\n",
    "    folderPath = os.path.join(basePath_image, folder)\n",
    "    filepathList = glob(os.path.join(folderPath, '*'))\n",
    "    print(len(filepathList))"
   ]
  },
  {
   "cell_type": "code",
   "execution_count": null,
   "metadata": {},
   "outputs": [],
   "source": []
  }
 ],
 "metadata": {
  "kernelspec": {
   "display_name": "yolov8",
   "language": "python",
   "name": "python3"
  },
  "language_info": {
   "codemirror_mode": {
    "name": "ipython",
    "version": 3
   },
   "file_extension": ".py",
   "mimetype": "text/x-python",
   "name": "python",
   "nbconvert_exporter": "python",
   "pygments_lexer": "ipython3",
   "version": "3.8.18"
  }
 },
 "nbformat": 4,
 "nbformat_minor": 2
}
