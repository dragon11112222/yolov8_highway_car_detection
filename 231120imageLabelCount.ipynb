{
 "cells": [
  {
   "cell_type": "code",
   "execution_count": 2,
   "metadata": {},
   "outputs": [
    {
     "data": {
      "text/plain": [
       "51"
      ]
     },
     "execution_count": 2,
     "metadata": {},
     "output_type": "execute_result"
    }
   ],
   "source": [
    "from glob import glob\n",
    "import os\n",
    "\n",
    "basePath = 'highway/valid/label/'\n",
    "\n",
    "valid_filename = []\n",
    "for filepath in glob(os.path.join(basePath, '*.xml')):\n",
    "    filename = os.path.basename(filepath)  ## 상위폴더 경로 제거\n",
    "    filename = filename[:-4]  ## .xml 제거\n",
    "    valid_filename.append(filename)\n",
    "\n",
    "len(valid_filename)"
   ]
  },
  {
   "cell_type": "code",
   "execution_count": 3,
   "metadata": {},
   "outputs": [
    {
     "name": "stdout",
     "output_type": "stream",
     "text": [
      "150\n",
      "150\n",
      "50\n",
      "50\n",
      "150\n",
      "230\n",
      "150\n",
      "100\n",
      "50\n",
      "150\n",
      "230\n",
      "150\n",
      "100\n",
      "100\n",
      "150\n",
      "149\n",
      "150\n",
      "150\n",
      "625\n",
      "150\n",
      "150\n",
      "150\n",
      "150\n",
      "50\n",
      "150\n",
      "150\n",
      "150\n",
      "100\n",
      "50\n",
      "50\n",
      "150\n",
      "150\n",
      "150\n",
      "625\n",
      "150\n",
      "150\n",
      "150\n",
      "150\n",
      "625\n",
      "147\n",
      "149\n",
      "150\n",
      "150\n",
      "625\n",
      "150\n",
      "150\n",
      "150\n",
      "150\n",
      "624\n",
      "31\n",
      "224\n"
     ]
    }
   ],
   "source": [
    "for folder in valid_filename:\n",
    "    folderPath = os.path.join(basePath, folder)\n",
    "    filepathList = glob(os.path.join(folderPath, '*'))\n",
    "    print(len(filepathList))"
   ]
  },
  {
   "cell_type": "code",
   "execution_count": 4,
   "metadata": {},
   "outputs": [
    {
     "name": "stdout",
     "output_type": "stream",
     "text": [
      "150\n",
      "0\n",
      "0\n",
      "0\n",
      "0\n",
      "0\n",
      "150\n",
      "0\n",
      "0\n",
      "0\n",
      "0\n",
      "150\n",
      "0\n",
      "0\n",
      "0\n",
      "0\n",
      "150\n",
      "0\n",
      "0\n",
      "0\n",
      "0\n",
      "0\n",
      "0\n",
      "0\n",
      "0\n",
      "0\n",
      "0\n",
      "0\n",
      "0\n",
      "0\n",
      "0\n",
      "0\n",
      "0\n",
      "0\n",
      "0\n",
      "0\n",
      "0\n",
      "0\n",
      "0\n",
      "0\n",
      "0\n",
      "0\n",
      "0\n",
      "0\n",
      "0\n",
      "0\n",
      "0\n",
      "0\n",
      "0\n",
      "0\n",
      "0\n"
     ]
    }
   ],
   "source": [
    "basePath_image = 'highway/valid/image/'\n",
    "\n",
    "for folder in valid_filename:\n",
    "    folderPath = os.path.join(basePath_image, folder)\n",
    "    filepathList = glob(os.path.join(folderPath, '*'))\n",
    "    print(len(filepathList))"
   ]
  },
  {
   "cell_type": "markdown",
   "metadata": {},
   "source": [
    "### valid image 채널별 가로세로 사이즈 동일한지 확인"
   ]
  },
  {
   "cell_type": "code",
   "execution_count": 5,
   "metadata": {},
   "outputs": [
    {
     "name": "stdout",
     "output_type": "stream",
     "text": [
      "(150, 1920, 1080, 3)\n",
      "(0,)\n",
      "(0,)\n",
      "(0,)\n",
      "(0,)\n",
      "(0,)\n",
      "(150, 1080, 1920, 3)\n",
      "(0,)\n",
      "(0,)\n",
      "(0,)\n",
      "(0,)\n",
      "(150, 1920, 1080, 3)\n",
      "(0,)\n",
      "(0,)\n",
      "(0,)\n",
      "(0,)\n",
      "(150, 1920, 1080, 3)\n",
      "(0,)\n",
      "(0,)\n",
      "(0,)\n",
      "(0,)\n",
      "(0,)\n",
      "(0,)\n",
      "(0,)\n",
      "(0,)\n",
      "(0,)\n",
      "(0,)\n",
      "(0,)\n",
      "(0,)\n",
      "(0,)\n",
      "(0,)\n",
      "(0,)\n",
      "(0,)\n",
      "(0,)\n",
      "(0,)\n",
      "(0,)\n",
      "(0,)\n",
      "(0,)\n",
      "(0,)\n",
      "(0,)\n",
      "(0,)\n",
      "(0,)\n",
      "(0,)\n",
      "(0,)\n",
      "(0,)\n",
      "(0,)\n",
      "(0,)\n",
      "(0,)\n",
      "(0,)\n",
      "(0,)\n",
      "(0,)\n"
     ]
    }
   ],
   "source": [
    "import cv2\n",
    "import numpy as np\n",
    "\n",
    "\n",
    "def glob_files(path, file_type=\"*\"):\n",
    "    search_string = os.path.join(path, file_type)\n",
    "    files = glob(search_string)\n",
    "\n",
    "    # print('searching ', path)\n",
    "    paths = []\n",
    "    for f in files:\n",
    "      if os.path.isdir(f):\n",
    "        sub_paths = glob_files(f + '/')\n",
    "        paths += sub_paths\n",
    "      else:\n",
    "        paths.append(f)\n",
    "\n",
    "    # We sort the images in alphabetical order to match them\n",
    "    #  to the annotation files\n",
    "    paths.sort()\n",
    "\n",
    "    return paths\n",
    "\n",
    "\n",
    "# IMAGE_SIZE = 600\n",
    "\n",
    "def load_images(path):\n",
    "  files = glob_files(path, \"*.png\")\n",
    "\n",
    "  # print(files)\n",
    "  X_data = []\n",
    "  for file in files:\n",
    "    image = cv2.imread(file)\n",
    "    # print(image.shape)\n",
    "    # x = cv2.resize(image, None, fx=0.5, fy=0.5, interpolation=cv2.INTER_AREA)\n",
    "\n",
    "    X_data.append(image)\n",
    "    \n",
    "  return np.array(X_data)\n",
    "\n",
    "\n",
    "for folder in valid_filename:\n",
    "    folderPath = os.path.join(basePath_image, folder)\n",
    "    X_test = load_images(folderPath)\n",
    "    print(X_test.shape)"
   ]
  },
  {
   "cell_type": "markdown",
   "metadata": {},
   "source": [
    "- CH02만 가로 1920 세로 1080 가로길쭉 -> transpose만 해주면 되나...?\n",
    "- 나머지는 세로길쭉\n"
   ]
  },
  {
   "cell_type": "code",
   "execution_count": 6,
   "metadata": {},
   "outputs": [],
   "source": [
    "X_test_ch02 = load_images(os.path.join(basePath_image, 'Suwon_CH02_20200720_2130_MON_9m_NH_highway_TW5_sunny_FHD'))"
   ]
  },
  {
   "cell_type": "code",
   "execution_count": 10,
   "metadata": {},
   "outputs": [
    {
     "data": {
      "text/plain": [
       "numpy.ndarray"
      ]
     },
     "execution_count": 10,
     "metadata": {},
     "output_type": "execute_result"
    }
   ],
   "source": [
    "type(X_test_ch02)"
   ]
  },
  {
   "cell_type": "code",
   "execution_count": 12,
   "metadata": {},
   "outputs": [
    {
     "data": {
      "text/plain": [
       "(3, 1920, 1080, 150)"
      ]
     },
     "execution_count": 12,
     "metadata": {},
     "output_type": "execute_result"
    }
   ],
   "source": [
    "X_test_ch02.transpose().shape"
   ]
  },
  {
   "cell_type": "markdown",
   "metadata": {},
   "source": [
    "완전 뒤집어서 transpose 되어 버림."
   ]
  },
  {
   "cell_type": "code",
   "execution_count": 14,
   "metadata": {},
   "outputs": [
    {
     "data": {
      "text/plain": [
       "(3, 1920, 1080)"
      ]
     },
     "execution_count": 14,
     "metadata": {},
     "output_type": "execute_result"
    }
   ],
   "source": [
    "X_test_ch02[0].transpose().shape"
   ]
  },
  {
   "cell_type": "code",
   "execution_count": 15,
   "metadata": {},
   "outputs": [
    {
     "data": {
      "text/plain": [
       "(150, 1920, 1080, 3)"
      ]
     },
     "execution_count": 15,
     "metadata": {},
     "output_type": "execute_result"
    }
   ],
   "source": [
    "X_test_ch02.transpose((0, 2, 1, 3)).shape"
   ]
  },
  {
   "cell_type": "markdown",
   "metadata": {},
   "source": [
    "이렇게 하면 일단 이미지 사이즈 형식은 통일됨. -> ch02의 모든 박스도 transpose 해줘야 하나...?"
   ]
  },
  {
   "cell_type": "code",
   "execution_count": null,
   "metadata": {},
   "outputs": [],
   "source": []
  }
 ],
 "metadata": {
  "kernelspec": {
   "display_name": "yolov8",
   "language": "python",
   "name": "python3"
  },
  "language_info": {
   "codemirror_mode": {
    "name": "ipython",
    "version": 3
   },
   "file_extension": ".py",
   "mimetype": "text/x-python",
   "name": "python",
   "nbconvert_exporter": "python",
   "pygments_lexer": "ipython3",
   "version": "3.8.18"
  }
 },
 "nbformat": 4,
 "nbformat_minor": 2
}
