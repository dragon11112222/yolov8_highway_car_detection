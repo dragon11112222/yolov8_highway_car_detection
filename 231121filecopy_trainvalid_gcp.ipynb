{
 "cells": [
  {
   "cell_type": "code",
   "execution_count": 6,
   "id": "c25a5f32-5058-4537-82d4-c478e7a4624b",
   "metadata": {
    "tags": []
   },
   "outputs": [
    {
     "name": "stdout",
     "output_type": "stream",
     "text": [
      "{\"time\":\"21/11/2023 02:16:04.866666\",\"severity\":\"INFO\",\"msg\":\"Start gcsfuse/1.2.0 (Go version go1.21.0) for app \\\"\\\" using mount point: /home/jupyter/dataset\\n\"}\n"
     ]
    }
   ],
   "source": [
    "bucket_name = 'sessac-project-13-bucket'\n",
    "mount_path = '/home/jupyter/dataset'\n",
    "!gcsfuse --implicit-dirs {bucket_name} {mount_path}"
   ]
  },
  {
   "cell_type": "code",
   "execution_count": 7,
   "id": "cac15803-52e7-4437-97ef-414cad636d1b",
   "metadata": {
    "tags": []
   },
   "outputs": [
    {
     "data": {
      "text/plain": [
       "405"
      ]
     },
     "execution_count": 7,
     "metadata": {},
     "output_type": "execute_result"
    }
   ],
   "source": [
    "from glob import glob\n",
    "import os\n",
    "\n",
    "HOME = os.getcwd()\n",
    "frombasePath = '{}/dataset/highway_total/train/label'.format(HOME)\n",
    "# tobasePath = '{}/highway/bbox_highway/train/labels'.format(HOME)\n",
    "\n",
    "train_filename = []\n",
    "for filepath in glob(os.path.join(frombasePath, '*.xml')):\n",
    "    filename = os.path.basename(filepath)\n",
    "    filename = filename[:-4]\n",
    "    train_filename.append(filename)\n",
    "\n",
    "len(train_filename)"
   ]
  },
  {
   "cell_type": "code",
   "execution_count": 23,
   "id": "add766f4-059d-4ba7-93ca-91b12d6a3240",
   "metadata": {
    "tags": []
   },
   "outputs": [
    {
     "data": {
      "text/plain": [
       "'Suwon_CH04_20201213_1142_SUN_9m_NH_highway_OW5_snow_FHD'"
      ]
     },
     "execution_count": 23,
     "metadata": {},
     "output_type": "execute_result"
    }
   ],
   "source": [
    "train_filename[167]"
   ]
  },
  {
   "cell_type": "code",
   "execution_count": 24,
   "id": "229c2d43-61a9-4770-8e0f-c2730bd90a16",
   "metadata": {
    "tags": []
   },
   "outputs": [
    {
     "data": {
      "text/plain": [
       "'Suwon_CH05_20200720_1700_MON_9m_NH_highway_OW5_sunny_FHD'"
      ]
     },
     "execution_count": 24,
     "metadata": {},
     "output_type": "execute_result"
    }
   ],
   "source": [
    "train_filename[168]"
   ]
  },
  {
   "cell_type": "markdown",
   "id": "f4f3b05a-0775-4e97-8903-78e8aaf81e56",
   "metadata": {},
   "source": [
    "### python module 시도(성공) : valid"
   ]
  },
  {
   "cell_type": "code",
   "execution_count": 28,
   "id": "3bc2eb1d-9424-4182-97d1-c6570e6a993a",
   "metadata": {},
   "outputs": [
    {
     "data": {
      "text/plain": [
       "34"
      ]
     },
     "execution_count": 28,
     "metadata": {},
     "output_type": "execute_result"
    }
   ],
   "source": [
    "len(list(range(0, 168, 5)))"
   ]
  },
  {
   "cell_type": "code",
   "execution_count": 31,
   "id": "c883c303-5d93-485f-82ea-7b1886769879",
   "metadata": {
    "tags": []
   },
   "outputs": [
    {
     "name": "stdout",
     "output_type": "stream",
     "text": [
      "Suwon_CH01_20200720_1700_MON_9m_NH_highway_TW5_sunny_FHD\n",
      "Suwon_CH01_20200720_2000_MON_9m_NH_highway_TW5_sunny_FHD\n",
      "Suwon_CH01_20200721_1630_TUE_9m_NH_highway_TW5_sunny_FHD\n",
      "Suwon_CH01_20200721_2030_TUE_9m_NH_highway_TW5_sunny_FHD\n",
      "Suwon_CH01_20200722_1530_WED_9m_NH_highway_TW5_rainy_FHD\n",
      "Suwon_CH01_20200722_1830_WED_9m_RH_highway_TW5_sunny_FHD\n",
      "Suwon_CH01_20201010_1900_SAT_9m_NH_highway_TW5_sunny_FHD\n",
      "Suwon_CH01_20201012_1753_MON_9m_RH_highway_TW5_sunny_FHD\n",
      "Suwon_CH01_20201213_0730_SUN_9m_NH_highway_TW5_snow_FHD\n",
      "Suwon_CH02_20200720_1700_MON_9m_NH_highway_TW5_sunny_FHD\n",
      "Suwon_CH02_20200720_2000_MON_9m_NH_highway_TW5_sunny_FHD\n",
      "Suwon_CH02_20200721_1800_TUE_9m_RH_highway_TW5_sunny_FHD\n",
      "Suwon_CH02_20200721_2130_TUE_9m_NH_highway_TW5_sunny_FHD\n",
      "Suwon_CH02_20200722_1630_WED_9m_RH_highway_TW5_rainy_FHD\n",
      "Suwon_CH02_20200722_1930_WED_9m_NH_highway_TW5_sunny_FHD\n",
      "Suwon_CH02_20201011_1836_SUN_9m_RH_highway_TW5_sunny_FHD\n",
      "Suwon_CH02_20201012_1858_MON_9m_RH_highway_TW5_sunny_FHD\n",
      "Suwon_CH03_20200720_1700_MON_9m_NH_highway_OW5_sunny_FHD\n",
      "Suwon_CH03_20200720_2000_MON_9m_NH_highway_OW5_sunny_FHD\n",
      "Suwon_CH03_20200721_1700_TUE_9m_RH_highway_OW5_sunny_FHD\n",
      "Suwon_CH03_20200721_2100_TUE_9m_NH_highway_OW5_sunny_FHD\n",
      "Suwon_CH03_20200722_1600_WED_9m_NH_highway_OW5_sunny_FHD\n",
      "Suwon_CH03_20200722_1900_WED_9m_NH_highway_OW5_sunny_FHD\n",
      "Suwon_CH03_20201011_1812_SUN_9m_RH_highway_OW5_sunny_FHD\n",
      "Suwon_CH03_20201012_1802_MON_9m_RH_highway_OW5_sunny_FHD\n",
      "Suwon_CH03_20201213_0936_SUN_9m_NH_highway_OW5_snow_FHD\n",
      "Suwon_CH04_20200720_1800_MON_9m_NH_highway_OW5_sunny_FHD\n",
      "Suwon_CH04_20200721_1530_TUE_9m_NH_highway_OW5_sunny_FHD\n",
      "Suwon_CH04_20200721_1930_TUE_9m_NH_highway_OW5_sunny_FHD\n",
      "Suwon_CH04_20200722_1500_WED_9m_NH_highway_OW5_rainy_FHD\n",
      "Suwon_CH04_20200722_1800_WED_9m_NH_highway_OW5_sunny_FHD\n",
      "Suwon_CH04_20201010_1849_SAT_9m_NH_highway_OW5_sunny_FHD\n",
      "Suwon_CH04_20201012_1706_MON_9m_RH_highway_OW5_sunny_FHD\n",
      "Suwon_CH04_20201213_0737_SUN_9m_NH_highway_OW5_snow_FHD\n"
     ]
    }
   ],
   "source": [
    "for i in range(0, 168, 5):\n",
    "    print(train_filename[i])"
   ]
  },
  {
   "cell_type": "code",
   "execution_count": 34,
   "id": "3835f05d-b9f0-4471-b808-c154ce164c40",
   "metadata": {
    "tags": []
   },
   "outputs": [],
   "source": [
    "from distutils.dir_util import copy_tree\n",
    "\n",
    "# frombasePath_valid = '{}/dataset/highway_total/train/label'.format(HOME)\n",
    "tobasePath_val = '{}/highway/bbox_highway/val/labels'.format(HOME)\n",
    "\n",
    "for i in range(0, 168, 5):\n",
    "    testfolderPath = os.path.join(frombasePath, train_filename[i])\n",
    "    copy_tree(testfolderPath, tobasePath_val)"
   ]
  },
  {
   "cell_type": "code",
   "execution_count": 35,
   "id": "72e786ac-d7b1-4ce8-958b-0e000b43c1d2",
   "metadata": {
    "tags": []
   },
   "outputs": [],
   "source": [
    "frombasePath_trainImg = '{}/dataset/highway_total/train'.format(HOME)\n",
    "tobasePath_valImg = '{}/highway/bbox_highway/val/images'.format(HOME)\n",
    "\n",
    "for i in range(0, 168, 5):\n",
    "    testfolderPath = os.path.join(frombasePath_trainImg, train_filename[i])\n",
    "    copy_tree(testfolderPath, tobasePath_valImg)"
   ]
  },
  {
   "cell_type": "markdown",
   "id": "a0f3245c-58d8-47df-825d-36c1c7b58d38",
   "metadata": {
    "tags": []
   },
   "source": [
    "### python module 시도(성공) : train"
   ]
  },
  {
   "cell_type": "code",
   "execution_count": 33,
   "id": "52d570b1-2475-462b-af5e-0b72ba867374",
   "metadata": {
    "tags": []
   },
   "outputs": [
    {
     "data": {
      "text/plain": [
       "134"
      ]
     },
     "execution_count": 33,
     "metadata": {},
     "output_type": "execute_result"
    }
   ],
   "source": [
    "len(list(set(range(0, 168)) - set(range(0, 168, 5))))"
   ]
  },
  {
   "cell_type": "code",
   "execution_count": 36,
   "id": "67624a7e-77e4-49ab-89ff-d7842d3c9250",
   "metadata": {
    "tags": []
   },
   "outputs": [],
   "source": [
    "tobasePath = '{}/highway/bbox_highway/train/labels'.format(HOME)\n",
    "\n",
    "for i in list(set(range(0, 168)) - set(range(0, 168, 5))):\n",
    "    testfolderPath = os.path.join(frombasePath, train_filename[i])\n",
    "    copy_tree(testfolderPath, tobasePath)"
   ]
  },
  {
   "cell_type": "code",
   "execution_count": 38,
   "id": "1fdf0340-4d9f-4f18-a90b-2d7f85767fa4",
   "metadata": {
    "tags": []
   },
   "outputs": [],
   "source": [
    "# frombasePath_trainImg = '{}/dataset/highway_total/valid/image/BB_01수도권영동선_Validation_image'.format(HOME)\n",
    "tobasePath_trainImg = '{}/highway/bbox_highway/train/images'.format(HOME)\n",
    "\n",
    "for i in list(set(range(0, 168)) - set(range(0, 168, 5))):\n",
    "    testfolderPath = os.path.join(frombasePath_trainImg, train_filename[i])\n",
    "    copy_tree(testfolderPath, tobasePath_trainImg)"
   ]
  },
  {
   "cell_type": "code",
   "execution_count": 37,
   "id": "5cc40e57-65e3-4c94-9112-88ea176ecb76",
   "metadata": {
    "tags": []
   },
   "outputs": [
    {
     "data": {
      "text/plain": [
       "'3.10.13'"
      ]
     },
     "execution_count": 37,
     "metadata": {},
     "output_type": "execute_result"
    }
   ],
   "source": [
    "import distutils\n",
    "\n",
    "distutils.__version__"
   ]
  },
  {
   "cell_type": "code",
   "execution_count": 39,
   "id": "4357e3d3-7c27-4906-9cce-60586da59a1c",
   "metadata": {
    "tags": []
   },
   "outputs": [
    {
     "data": {
      "text/plain": [
       "'1.23.5'"
      ]
     },
     "execution_count": 39,
     "metadata": {},
     "output_type": "execute_result"
    }
   ],
   "source": [
    "import numpy\n",
    "\n",
    "numpy.__version__"
   ]
  },
  {
   "cell_type": "code",
   "execution_count": 40,
   "id": "a2c90b03-b9ca-44e8-bb0a-48021d98f0b5",
   "metadata": {
    "tags": []
   },
   "outputs": [
    {
     "data": {
      "text/plain": [
       "'4.9.3'"
      ]
     },
     "execution_count": 40,
     "metadata": {},
     "output_type": "execute_result"
    }
   ],
   "source": [
    "import lxml\n",
    "\n",
    "lxml.__version__"
   ]
  },
  {
   "cell_type": "code",
   "execution_count": null,
   "id": "27096183-000d-4cbf-8d7b-b79356110764",
   "metadata": {},
   "outputs": [],
   "source": []
  }
 ],
 "metadata": {
  "environment": {
   "kernel": "python3",
   "name": ".m113",
   "type": "gcloud",
   "uri": "gcr.io/deeplearning-platform-release/:m113"
  },
  "kernelspec": {
   "display_name": "Python 3",
   "language": "python",
   "name": "python3"
  },
  "language_info": {
   "codemirror_mode": {
    "name": "ipython",
    "version": 3
   },
   "file_extension": ".py",
   "mimetype": "text/x-python",
   "name": "python",
   "nbconvert_exporter": "python",
   "pygments_lexer": "ipython3",
   "version": "3.10.13"
  }
 },
 "nbformat": 4,
 "nbformat_minor": 5
}
