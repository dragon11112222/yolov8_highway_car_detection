{
 "cells": [
  {
   "cell_type": "code",
   "execution_count": 1,
   "metadata": {},
   "outputs": [
    {
     "data": {
      "text/plain": [
       "51"
      ]
     },
     "execution_count": 1,
     "metadata": {},
     "output_type": "execute_result"
    }
   ],
   "source": [
    "from glob import glob\n",
    "import os\n",
    "\n",
    "basePath = 'highway/valid/label/'\n",
    "\n",
    "valid_filename = []\n",
    "for filepath in glob(os.path.join(basePath, '*.xml')):\n",
    "    filename = os.path.basename(filepath)  ## 상위폴더 경로 제거\n",
    "    filename = filename[:-4]  ## .xml 제거\n",
    "    valid_filename.append(filename)\n",
    "\n",
    "len(valid_filename)"
   ]
  },
  {
   "cell_type": "code",
   "execution_count": 2,
   "metadata": {},
   "outputs": [
    {
     "data": {
      "text/html": [
       "<div>\n",
       "<style scoped>\n",
       "    .dataframe tbody tr th:only-of-type {\n",
       "        vertical-align: middle;\n",
       "    }\n",
       "\n",
       "    .dataframe tbody tr th {\n",
       "        vertical-align: top;\n",
       "    }\n",
       "\n",
       "    .dataframe thead th {\n",
       "        text-align: right;\n",
       "    }\n",
       "</style>\n",
       "<table border=\"1\" class=\"dataframe\">\n",
       "  <thead>\n",
       "    <tr style=\"text-align: right;\">\n",
       "      <th></th>\n",
       "      <th>valid_folder</th>\n",
       "    </tr>\n",
       "  </thead>\n",
       "  <tbody>\n",
       "    <tr>\n",
       "      <th>0</th>\n",
       "      <td>Suwon_CH01_20200720_1830_MON_9m_RH_highway_TW5...</td>\n",
       "    </tr>\n",
       "    <tr>\n",
       "      <th>1</th>\n",
       "      <td>Suwon_CH01_20200721_1700_TUE_9m_RH_highway_TW5...</td>\n",
       "    </tr>\n",
       "    <tr>\n",
       "      <th>2</th>\n",
       "      <td>Suwon_CH01_20200722_1430_WED_9m_NH_highway_TW5...</td>\n",
       "    </tr>\n",
       "    <tr>\n",
       "      <th>3</th>\n",
       "      <td>Suwon_CH01_20200722_1930_WED_9m_NH_highway_TW5...</td>\n",
       "    </tr>\n",
       "    <tr>\n",
       "      <th>4</th>\n",
       "      <td>Suwon_CH01_20201012_1723_MON_9m_RH_highway_TW5...</td>\n",
       "    </tr>\n",
       "  </tbody>\n",
       "</table>\n",
       "</div>"
      ],
      "text/plain": [
       "                                        valid_folder\n",
       "0  Suwon_CH01_20200720_1830_MON_9m_RH_highway_TW5...\n",
       "1  Suwon_CH01_20200721_1700_TUE_9m_RH_highway_TW5...\n",
       "2  Suwon_CH01_20200722_1430_WED_9m_NH_highway_TW5...\n",
       "3  Suwon_CH01_20200722_1930_WED_9m_NH_highway_TW5...\n",
       "4  Suwon_CH01_20201012_1723_MON_9m_RH_highway_TW5..."
      ]
     },
     "execution_count": 2,
     "metadata": {},
     "output_type": "execute_result"
    }
   ],
   "source": [
    "import pandas as pd\n",
    "\n",
    "df = pd.DataFrame(valid_filename)\n",
    "df.columns = ['valid_folder']\n",
    "df.head()"
   ]
  },
  {
   "cell_type": "code",
   "execution_count": 3,
   "metadata": {},
   "outputs": [],
   "source": [
    "import numpy as np\n",
    "\n",
    "\n",
    "def glob_files(path, file_type=\"*\"):\n",
    "    search_string = os.path.join(path, file_type)\n",
    "    files = glob(search_string)\n",
    "\n",
    "    # print('searching ', path)\n",
    "    paths = []\n",
    "    for f in files:\n",
    "      if os.path.isdir(f):\n",
    "        sub_paths = glob_files(f + '/')\n",
    "        paths += sub_paths\n",
    "      else:\n",
    "        paths.append(f)\n",
    "\n",
    "    # We sort the images in alphabetical order to match them\n",
    "    #  to the annotation files\n",
    "    paths.sort()\n",
    "\n",
    "    return paths\n",
    "\n",
    "\n",
    "WIDTH = 1\n",
    "HEIGHT = 1\n",
    "\n",
    "def load_labels(path):\n",
    "  files = glob_files(path, \"*.txt\")\n",
    "\n",
    "  Y_data = []\n",
    "  for file in files:\n",
    "    with open(file) as f:\n",
    "      lines = f.readlines()\n",
    "\n",
    "      boxes = []\n",
    "      for line in lines:\n",
    "        tokens = line.split()\n",
    "\n",
    "        class_id = int(tokens[0])\n",
    "        xc = float(tokens[1]) * WIDTH\n",
    "        yc = float(tokens[2]) * HEIGHT\n",
    "        width = float(tokens[3]) * WIDTH\n",
    "        height = float(tokens[4]) * HEIGHT\n",
    "\n",
    "        boxes.append(np.array([class_id, xc, yc, width, height]))\n",
    "        # print(class_id, xc, yc, width, height)\n",
    "\n",
    "      Y_data.append(np.array(boxes))\n",
    "      # print(lines)\n",
    "  return Y_data  ## 이미지마다 탐지 대상 개수가 달라서(행 개수가 달라서) 정해진 shape의 넘파이 어레이로 변환할 수 없다! 변환하려면 패딩 등이 필요.\n",
    "\n",
    "Y_test_ex = load_labels(os.path.join(basePath, 'Suwon_CH01_20200720_1830_MON_9m_RH_highway_TW5_sunny_FHD'))"
   ]
  },
  {
   "cell_type": "code",
   "execution_count": 4,
   "metadata": {},
   "outputs": [
    {
     "data": {
      "text/plain": [
       "150"
      ]
     },
     "execution_count": 4,
     "metadata": {},
     "output_type": "execute_result"
    }
   ],
   "source": [
    "len(Y_test_ex)"
   ]
  },
  {
   "cell_type": "code",
   "execution_count": 5,
   "metadata": {},
   "outputs": [
    {
     "data": {
      "text/html": [
       "<div>\n",
       "<style scoped>\n",
       "    .dataframe tbody tr th:only-of-type {\n",
       "        vertical-align: middle;\n",
       "    }\n",
       "\n",
       "    .dataframe tbody tr th {\n",
       "        vertical-align: top;\n",
       "    }\n",
       "\n",
       "    .dataframe thead th {\n",
       "        text-align: right;\n",
       "    }\n",
       "</style>\n",
       "<table border=\"1\" class=\"dataframe\">\n",
       "  <thead>\n",
       "    <tr style=\"text-align: right;\">\n",
       "      <th></th>\n",
       "      <th>0.0</th>\n",
       "      <th>2.0</th>\n",
       "      <th>1.0</th>\n",
       "    </tr>\n",
       "  </thead>\n",
       "  <tbody>\n",
       "    <tr>\n",
       "      <th>count</th>\n",
       "      <td>21</td>\n",
       "      <td>8</td>\n",
       "      <td>3</td>\n",
       "    </tr>\n",
       "  </tbody>\n",
       "</table>\n",
       "</div>"
      ],
      "text/plain": [
       "0      0.0  2.0  1.0\n",
       "count   21    8    3"
      ]
     },
     "execution_count": 5,
     "metadata": {},
     "output_type": "execute_result"
    }
   ],
   "source": [
    "df_ex = pd.DataFrame(pd.DataFrame(Y_test_ex[0])[0].value_counts()).T\n",
    "df_ex"
   ]
  },
  {
   "cell_type": "code",
   "execution_count": 6,
   "metadata": {},
   "outputs": [
    {
     "data": {
      "text/plain": [
       "21"
      ]
     },
     "execution_count": 6,
     "metadata": {},
     "output_type": "execute_result"
    }
   ],
   "source": [
    "df_ex.loc['count', 0.0]"
   ]
  },
  {
   "cell_type": "code",
   "execution_count": 7,
   "metadata": {},
   "outputs": [
    {
     "data": {
      "text/html": [
       "<div>\n",
       "<style scoped>\n",
       "    .dataframe tbody tr th:only-of-type {\n",
       "        vertical-align: middle;\n",
       "    }\n",
       "\n",
       "    .dataframe tbody tr th {\n",
       "        vertical-align: top;\n",
       "    }\n",
       "\n",
       "    .dataframe thead th {\n",
       "        text-align: right;\n",
       "    }\n",
       "</style>\n",
       "<table border=\"1\" class=\"dataframe\">\n",
       "  <thead>\n",
       "    <tr style=\"text-align: right;\">\n",
       "      <th></th>\n",
       "      <th>valid_folder</th>\n",
       "      <th>car_cnt</th>\n",
       "    </tr>\n",
       "  </thead>\n",
       "  <tbody>\n",
       "    <tr>\n",
       "      <th>0</th>\n",
       "      <td>Suwon_CH01_20200720_1830_MON_9m_RH_highway_TW5...</td>\n",
       "      <td>21.0</td>\n",
       "    </tr>\n",
       "    <tr>\n",
       "      <th>1</th>\n",
       "      <td>Suwon_CH01_20200721_1700_TUE_9m_RH_highway_TW5...</td>\n",
       "      <td>NaN</td>\n",
       "    </tr>\n",
       "    <tr>\n",
       "      <th>2</th>\n",
       "      <td>Suwon_CH01_20200722_1430_WED_9m_NH_highway_TW5...</td>\n",
       "      <td>NaN</td>\n",
       "    </tr>\n",
       "    <tr>\n",
       "      <th>3</th>\n",
       "      <td>Suwon_CH01_20200722_1930_WED_9m_NH_highway_TW5...</td>\n",
       "      <td>NaN</td>\n",
       "    </tr>\n",
       "    <tr>\n",
       "      <th>4</th>\n",
       "      <td>Suwon_CH01_20201012_1723_MON_9m_RH_highway_TW5...</td>\n",
       "      <td>NaN</td>\n",
       "    </tr>\n",
       "  </tbody>\n",
       "</table>\n",
       "</div>"
      ],
      "text/plain": [
       "                                        valid_folder  car_cnt\n",
       "0  Suwon_CH01_20200720_1830_MON_9m_RH_highway_TW5...     21.0\n",
       "1  Suwon_CH01_20200721_1700_TUE_9m_RH_highway_TW5...      NaN\n",
       "2  Suwon_CH01_20200722_1430_WED_9m_NH_highway_TW5...      NaN\n",
       "3  Suwon_CH01_20200722_1930_WED_9m_NH_highway_TW5...      NaN\n",
       "4  Suwon_CH01_20201012_1723_MON_9m_RH_highway_TW5...      NaN"
      ]
     },
     "execution_count": 7,
     "metadata": {},
     "output_type": "execute_result"
    }
   ],
   "source": [
    "df.loc[0, 'car_cnt'] = df_ex.loc['count', 0.0]\n",
    "df.head()"
   ]
  },
  {
   "cell_type": "code",
   "execution_count": 8,
   "metadata": {},
   "outputs": [],
   "source": [
    "classes = ['car', 'bus', 'truck']"
   ]
  },
  {
   "cell_type": "code",
   "execution_count": 12,
   "metadata": {},
   "outputs": [],
   "source": [
    "for i in range(3):\n",
    "    # print(float(i))\n",
    "    col = classes[i] + '_cnt'\n",
    "    # print(col)\n",
    "    df.loc[0, col] = df_ex.loc['count', float(i)]"
   ]
  },
  {
   "cell_type": "code",
   "execution_count": 13,
   "metadata": {},
   "outputs": [
    {
     "data": {
      "text/html": [
       "<div>\n",
       "<style scoped>\n",
       "    .dataframe tbody tr th:only-of-type {\n",
       "        vertical-align: middle;\n",
       "    }\n",
       "\n",
       "    .dataframe tbody tr th {\n",
       "        vertical-align: top;\n",
       "    }\n",
       "\n",
       "    .dataframe thead th {\n",
       "        text-align: right;\n",
       "    }\n",
       "</style>\n",
       "<table border=\"1\" class=\"dataframe\">\n",
       "  <thead>\n",
       "    <tr style=\"text-align: right;\">\n",
       "      <th></th>\n",
       "      <th>valid_folder</th>\n",
       "      <th>car_cnt</th>\n",
       "      <th>bus_cnt</th>\n",
       "      <th>truck_cnt</th>\n",
       "    </tr>\n",
       "  </thead>\n",
       "  <tbody>\n",
       "    <tr>\n",
       "      <th>0</th>\n",
       "      <td>Suwon_CH01_20200720_1830_MON_9m_RH_highway_TW5...</td>\n",
       "      <td>21.0</td>\n",
       "      <td>3.0</td>\n",
       "      <td>8.0</td>\n",
       "    </tr>\n",
       "    <tr>\n",
       "      <th>1</th>\n",
       "      <td>Suwon_CH01_20200721_1700_TUE_9m_RH_highway_TW5...</td>\n",
       "      <td>NaN</td>\n",
       "      <td>NaN</td>\n",
       "      <td>NaN</td>\n",
       "    </tr>\n",
       "    <tr>\n",
       "      <th>2</th>\n",
       "      <td>Suwon_CH01_20200722_1430_WED_9m_NH_highway_TW5...</td>\n",
       "      <td>NaN</td>\n",
       "      <td>NaN</td>\n",
       "      <td>NaN</td>\n",
       "    </tr>\n",
       "    <tr>\n",
       "      <th>3</th>\n",
       "      <td>Suwon_CH01_20200722_1930_WED_9m_NH_highway_TW5...</td>\n",
       "      <td>NaN</td>\n",
       "      <td>NaN</td>\n",
       "      <td>NaN</td>\n",
       "    </tr>\n",
       "    <tr>\n",
       "      <th>4</th>\n",
       "      <td>Suwon_CH01_20201012_1723_MON_9m_RH_highway_TW5...</td>\n",
       "      <td>NaN</td>\n",
       "      <td>NaN</td>\n",
       "      <td>NaN</td>\n",
       "    </tr>\n",
       "  </tbody>\n",
       "</table>\n",
       "</div>"
      ],
      "text/plain": [
       "                                        valid_folder  car_cnt  bus_cnt  \\\n",
       "0  Suwon_CH01_20200720_1830_MON_9m_RH_highway_TW5...     21.0      3.0   \n",
       "1  Suwon_CH01_20200721_1700_TUE_9m_RH_highway_TW5...      NaN      NaN   \n",
       "2  Suwon_CH01_20200722_1430_WED_9m_NH_highway_TW5...      NaN      NaN   \n",
       "3  Suwon_CH01_20200722_1930_WED_9m_NH_highway_TW5...      NaN      NaN   \n",
       "4  Suwon_CH01_20201012_1723_MON_9m_RH_highway_TW5...      NaN      NaN   \n",
       "\n",
       "   truck_cnt  \n",
       "0        8.0  \n",
       "1        NaN  \n",
       "2        NaN  \n",
       "3        NaN  \n",
       "4        NaN  "
      ]
     },
     "execution_count": 13,
     "metadata": {},
     "output_type": "execute_result"
    }
   ],
   "source": [
    "df.head()"
   ]
  },
  {
   "cell_type": "code",
   "execution_count": null,
   "metadata": {},
   "outputs": [],
   "source": []
  }
 ],
 "metadata": {
  "kernelspec": {
   "display_name": "yolov8",
   "language": "python",
   "name": "python3"
  },
  "language_info": {
   "codemirror_mode": {
    "name": "ipython",
    "version": 3
   },
   "file_extension": ".py",
   "mimetype": "text/x-python",
   "name": "python",
   "nbconvert_exporter": "python",
   "pygments_lexer": "ipython3",
   "version": "3.8.18"
  }
 },
 "nbformat": 4,
 "nbformat_minor": 2
}
