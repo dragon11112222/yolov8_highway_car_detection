{
 "cells": [
  {
   "cell_type": "code",
   "execution_count": null,
   "metadata": {},
   "outputs": [],
   "source": [
    "from glob import glob\n",
    "import os\n",
    "\n",
    "HOME = os.getcwd()\n",
    "frombasePath = '{}/dataset/highway_total/valid/label'.format(HOME)\n",
    "tobasePath = '{}/highway/bbox_highway/test/labels'.format(HOME)\n",
    "\n",
    "valid_filename = []\n",
    "for filepath in glob(os.path.join(frombasePath, '*.xml')):\n",
    "    filename = os.path.basename(filepath)\n",
    "    filename = filename[:-4]\n",
    "    valid_filename.append(filename)\n",
    "\n",
    "len(valid_filename)"
   ]
  },
  {
   "cell_type": "markdown",
   "metadata": {},
   "source": [
    "## test data 확정"
   ]
  },
  {
   "cell_type": "code",
   "execution_count": null,
   "metadata": {},
   "outputs": [],
   "source": [
    "from distutils.dir_util import copy_tree\n",
    "\n",
    "for folder in valid_filename[:21]:\n",
    "    testfolderPath = os.path.join(frombasePath, folder)\n",
    "    copy_tree(testfolderPath, tobasePath)"
   ]
  },
  {
   "cell_type": "code",
   "execution_count": null,
   "metadata": {},
   "outputs": [],
   "source": [
    "frombasePath_validImg = '{}/dataset/highway_total/valid/image/BB_01수도권영동선_Validation_image'.format(HOME)\n",
    "tobasePath_validImg = '{}/highway/bbox_highway/test/images'.format(HOME)\n",
    "\n",
    "for folder in valid_filename[:21]:\n",
    "    testfolderPath = os.path.join(frombasePath_validImg, folder)\n",
    "    copy_tree(testfolderPath, tobasePath_validImg)"
   ]
  }
 ],
 "metadata": {
  "language_info": {
   "name": "python"
  }
 },
 "nbformat": 4,
 "nbformat_minor": 2
}
