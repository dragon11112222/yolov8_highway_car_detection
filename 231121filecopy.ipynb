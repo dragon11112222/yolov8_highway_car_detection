{
 "cells": [
  {
   "cell_type": "code",
   "execution_count": 5,
   "id": "cac15803-52e7-4437-97ef-414cad636d1b",
   "metadata": {
    "tags": []
   },
   "outputs": [
    {
     "data": {
      "text/plain": [
       "51"
      ]
     },
     "execution_count": 5,
     "metadata": {},
     "output_type": "execute_result"
    }
   ],
   "source": [
    "from glob import glob\n",
    "import os\n",
    "\n",
    "HOME = os.getcwd()\n",
    "frombasePath = '{}/dataset/highway_total/valid/label'.format(HOME)\n",
    "tobasePath = '{}/highway/bbox_highway/test/labels'.format(HOME)\n",
    "\n",
    "valid_filename = []\n",
    "for filepath in glob(os.path.join(frombasePath, '*.xml')):\n",
    "    filename = os.path.basename(filepath)\n",
    "    filename = filename[:-4]\n",
    "    valid_filename.append(filename)\n",
    "\n",
    "len(valid_filename)"
   ]
  },
  {
   "cell_type": "code",
   "execution_count": 13,
   "id": "add766f4-059d-4ba7-93ca-91b12d6a3240",
   "metadata": {
    "tags": []
   },
   "outputs": [
    {
     "data": {
      "text/plain": [
       "['Suwon_CH01_20200720_1830_MON_9m_RH_highway_TW5_sunny_FHD',\n",
       " 'Suwon_CH01_20200721_1700_TUE_9m_RH_highway_TW5_sunny_FHD',\n",
       " 'Suwon_CH01_20200722_1430_WED_9m_NH_highway_TW5_rainy_FHD',\n",
       " 'Suwon_CH01_20200722_1930_WED_9m_NH_highway_TW5_sunny_FHD',\n",
       " 'Suwon_CH01_20201012_1723_MON_9m_RH_highway_TW5_sunny_FHD',\n",
       " 'Suwon_CH01_20201213_1200_SUN_9m_NH_highway_TW5_snow_FHD',\n",
       " 'Suwon_CH02_20200720_2130_MON_9m_NH_highway_TW5_sunny_FHD',\n",
       " 'Suwon_CH02_20200721_2030_TUE_9m_NH_highway_TW5_sunny_FHD',\n",
       " 'Suwon_CH02_20200722_1730_WED_9m_NH_highway_TW5_sunny_FHD',\n",
       " 'Suwon_CH02_20201011_1806_SUN_9m_RH_highway_TW5_sunny_FHD',\n",
       " 'Suwon_CH02_20201213_0933_SUN_9m_NH_highway_TW5_snow_FHD',\n",
       " 'Suwon_CH03_20200720_2030_MON_9m_NH_highway_OW5_sunny_FHD',\n",
       " 'Suwon_CH03_20200721_2000_TUE_9m_NH_highway_OW5_sunny_FHD',\n",
       " 'Suwon_CH03_20200722_1700_WED_9m_NH_highway_OW5_sunny_FHD',\n",
       " 'Suwon_CH03_20201011_1742_SUN_9m_RH_highway_OW5_sunny_FHD',\n",
       " 'Suwon_CH03_20201012_1933_MON_9m_RH_highway_OW5_sunny_FHD',\n",
       " 'Suwon_CH04_20200720_1830_MON_9m_NH_highway_OW5_sunny_FHD',\n",
       " 'Suwon_CH04_20200721_1830_TUE_9m_RH_highway_OW5_sunny_FHD',\n",
       " 'Suwon_CH04_20200722_1600_WED_9m_NH_highway_OW5_rainy_FHD',\n",
       " 'Suwon_CH04_20201010_1818_SAT_9m_RH_highway_OW5_sunny_FHD',\n",
       " 'Suwon_CH04_20201012_1838_MON_9m_RH_highway_OW5_sunny_FHD']"
      ]
     },
     "execution_count": 13,
     "metadata": {},
     "output_type": "execute_result"
    }
   ],
   "source": [
    "valid_filename[:21]"
   ]
  },
  {
   "cell_type": "markdown",
   "id": "50e6304d-ed19-4085-b06c-349ef95731ec",
   "metadata": {},
   "source": [
    "### linux command 시도(실패)"
   ]
  },
  {
   "cell_type": "code",
   "execution_count": 6,
   "id": "6e2e3d78-1bea-43e2-a71c-3acbfbeaaab0",
   "metadata": {
    "tags": []
   },
   "outputs": [],
   "source": [
    "testfolderPath = os.path.join(frombasePath, 'Suwon_CH01_20200720_1830_MON_9m_RH_highway_TW5_sunny_FHD')\n",
    "\n",
    "!cp -r {testfolderPath}/ {tobasePath}/"
   ]
  },
  {
   "cell_type": "markdown",
   "id": "8106acd7-7182-4bcd-8b70-5d984ce99851",
   "metadata": {},
   "source": [
    "처음 만들 땐 막바로 복사해 줌."
   ]
  },
  {
   "cell_type": "code",
   "execution_count": 7,
   "id": "1cd11cdd-9ab9-45e0-9597-dbeb9e6002f8",
   "metadata": {
    "tags": []
   },
   "outputs": [
    {
     "name": "stdout",
     "output_type": "stream",
     "text": [
      "/home/jupyter\n"
     ]
    }
   ],
   "source": [
    "!pwd"
   ]
  },
  {
   "cell_type": "code",
   "execution_count": 8,
   "id": "7a2c2cb6-1335-4573-87a6-1f0e6fe85d9d",
   "metadata": {
    "tags": []
   },
   "outputs": [],
   "source": [
    "testfolderPath = os.path.join(frombasePath, 'Suwon_CH02_20200720_2130_MON_9m_NH_highway_TW5_sunny_FHD')\n",
    "\n",
    "!cp -r {testfolderPath}/ {tobasePath}/"
   ]
  },
  {
   "cell_type": "markdown",
   "id": "f6cf93e2-1564-49f8-9cf0-a55e7ee5d25c",
   "metadata": {},
   "source": [
    "다음 만들 땐 폴더로 따로 묶어서 복사해 줌."
   ]
  },
  {
   "cell_type": "markdown",
   "id": "a0f3245c-58d8-47df-825d-36c1c7b58d38",
   "metadata": {},
   "source": [
    "### python module 시도(성공)"
   ]
  },
  {
   "cell_type": "code",
   "execution_count": 14,
   "id": "181442c3-dc96-46fa-98d6-b67f26c9a195",
   "metadata": {
    "tags": []
   },
   "outputs": [
    {
     "data": {
      "text/plain": [
       "['/home/jupyter/highway/bbox_highway/test/labels/Suwon_CH02_20200720_2130_MON_9m_NH_highway_TW5_sunny_FHD_001.txt',\n",
       " '/home/jupyter/highway/bbox_highway/test/labels/Suwon_CH02_20200720_2130_MON_9m_NH_highway_TW5_sunny_FHD_002.txt',\n",
       " '/home/jupyter/highway/bbox_highway/test/labels/Suwon_CH02_20200720_2130_MON_9m_NH_highway_TW5_sunny_FHD_003.txt',\n",
       " '/home/jupyter/highway/bbox_highway/test/labels/Suwon_CH02_20200720_2130_MON_9m_NH_highway_TW5_sunny_FHD_004.txt',\n",
       " '/home/jupyter/highway/bbox_highway/test/labels/Suwon_CH02_20200720_2130_MON_9m_NH_highway_TW5_sunny_FHD_005.txt',\n",
       " '/home/jupyter/highway/bbox_highway/test/labels/Suwon_CH02_20200720_2130_MON_9m_NH_highway_TW5_sunny_FHD_006.txt',\n",
       " '/home/jupyter/highway/bbox_highway/test/labels/Suwon_CH02_20200720_2130_MON_9m_NH_highway_TW5_sunny_FHD_007.txt',\n",
       " '/home/jupyter/highway/bbox_highway/test/labels/Suwon_CH02_20200720_2130_MON_9m_NH_highway_TW5_sunny_FHD_008.txt',\n",
       " '/home/jupyter/highway/bbox_highway/test/labels/Suwon_CH02_20200720_2130_MON_9m_NH_highway_TW5_sunny_FHD_009.txt',\n",
       " '/home/jupyter/highway/bbox_highway/test/labels/Suwon_CH02_20200720_2130_MON_9m_NH_highway_TW5_sunny_FHD_010.txt',\n",
       " '/home/jupyter/highway/bbox_highway/test/labels/Suwon_CH02_20200720_2130_MON_9m_NH_highway_TW5_sunny_FHD_011.txt',\n",
       " '/home/jupyter/highway/bbox_highway/test/labels/Suwon_CH02_20200720_2130_MON_9m_NH_highway_TW5_sunny_FHD_012.txt',\n",
       " '/home/jupyter/highway/bbox_highway/test/labels/Suwon_CH02_20200720_2130_MON_9m_NH_highway_TW5_sunny_FHD_013.txt',\n",
       " '/home/jupyter/highway/bbox_highway/test/labels/Suwon_CH02_20200720_2130_MON_9m_NH_highway_TW5_sunny_FHD_014.txt',\n",
       " '/home/jupyter/highway/bbox_highway/test/labels/Suwon_CH02_20200720_2130_MON_9m_NH_highway_TW5_sunny_FHD_015.txt',\n",
       " '/home/jupyter/highway/bbox_highway/test/labels/Suwon_CH02_20200720_2130_MON_9m_NH_highway_TW5_sunny_FHD_016.txt',\n",
       " '/home/jupyter/highway/bbox_highway/test/labels/Suwon_CH02_20200720_2130_MON_9m_NH_highway_TW5_sunny_FHD_017.txt',\n",
       " '/home/jupyter/highway/bbox_highway/test/labels/Suwon_CH02_20200720_2130_MON_9m_NH_highway_TW5_sunny_FHD_018.txt',\n",
       " '/home/jupyter/highway/bbox_highway/test/labels/Suwon_CH02_20200720_2130_MON_9m_NH_highway_TW5_sunny_FHD_019.txt',\n",
       " '/home/jupyter/highway/bbox_highway/test/labels/Suwon_CH02_20200720_2130_MON_9m_NH_highway_TW5_sunny_FHD_020.txt',\n",
       " '/home/jupyter/highway/bbox_highway/test/labels/Suwon_CH02_20200720_2130_MON_9m_NH_highway_TW5_sunny_FHD_021.txt',\n",
       " '/home/jupyter/highway/bbox_highway/test/labels/Suwon_CH02_20200720_2130_MON_9m_NH_highway_TW5_sunny_FHD_022.txt',\n",
       " '/home/jupyter/highway/bbox_highway/test/labels/Suwon_CH02_20200720_2130_MON_9m_NH_highway_TW5_sunny_FHD_023.txt',\n",
       " '/home/jupyter/highway/bbox_highway/test/labels/Suwon_CH02_20200720_2130_MON_9m_NH_highway_TW5_sunny_FHD_024.txt',\n",
       " '/home/jupyter/highway/bbox_highway/test/labels/Suwon_CH02_20200720_2130_MON_9m_NH_highway_TW5_sunny_FHD_025.txt',\n",
       " '/home/jupyter/highway/bbox_highway/test/labels/Suwon_CH02_20200720_2130_MON_9m_NH_highway_TW5_sunny_FHD_026.txt',\n",
       " '/home/jupyter/highway/bbox_highway/test/labels/Suwon_CH02_20200720_2130_MON_9m_NH_highway_TW5_sunny_FHD_027.txt',\n",
       " '/home/jupyter/highway/bbox_highway/test/labels/Suwon_CH02_20200720_2130_MON_9m_NH_highway_TW5_sunny_FHD_028.txt',\n",
       " '/home/jupyter/highway/bbox_highway/test/labels/Suwon_CH02_20200720_2130_MON_9m_NH_highway_TW5_sunny_FHD_029.txt',\n",
       " '/home/jupyter/highway/bbox_highway/test/labels/Suwon_CH02_20200720_2130_MON_9m_NH_highway_TW5_sunny_FHD_030.txt',\n",
       " '/home/jupyter/highway/bbox_highway/test/labels/Suwon_CH02_20200720_2130_MON_9m_NH_highway_TW5_sunny_FHD_031.txt',\n",
       " '/home/jupyter/highway/bbox_highway/test/labels/Suwon_CH02_20200720_2130_MON_9m_NH_highway_TW5_sunny_FHD_032.txt',\n",
       " '/home/jupyter/highway/bbox_highway/test/labels/Suwon_CH02_20200720_2130_MON_9m_NH_highway_TW5_sunny_FHD_033.txt',\n",
       " '/home/jupyter/highway/bbox_highway/test/labels/Suwon_CH02_20200720_2130_MON_9m_NH_highway_TW5_sunny_FHD_034.txt',\n",
       " '/home/jupyter/highway/bbox_highway/test/labels/Suwon_CH02_20200720_2130_MON_9m_NH_highway_TW5_sunny_FHD_035.txt',\n",
       " '/home/jupyter/highway/bbox_highway/test/labels/Suwon_CH02_20200720_2130_MON_9m_NH_highway_TW5_sunny_FHD_036.txt',\n",
       " '/home/jupyter/highway/bbox_highway/test/labels/Suwon_CH02_20200720_2130_MON_9m_NH_highway_TW5_sunny_FHD_037.txt',\n",
       " '/home/jupyter/highway/bbox_highway/test/labels/Suwon_CH02_20200720_2130_MON_9m_NH_highway_TW5_sunny_FHD_038.txt',\n",
       " '/home/jupyter/highway/bbox_highway/test/labels/Suwon_CH02_20200720_2130_MON_9m_NH_highway_TW5_sunny_FHD_039.txt',\n",
       " '/home/jupyter/highway/bbox_highway/test/labels/Suwon_CH02_20200720_2130_MON_9m_NH_highway_TW5_sunny_FHD_040.txt',\n",
       " '/home/jupyter/highway/bbox_highway/test/labels/Suwon_CH02_20200720_2130_MON_9m_NH_highway_TW5_sunny_FHD_041.txt',\n",
       " '/home/jupyter/highway/bbox_highway/test/labels/Suwon_CH02_20200720_2130_MON_9m_NH_highway_TW5_sunny_FHD_042.txt',\n",
       " '/home/jupyter/highway/bbox_highway/test/labels/Suwon_CH02_20200720_2130_MON_9m_NH_highway_TW5_sunny_FHD_043.txt',\n",
       " '/home/jupyter/highway/bbox_highway/test/labels/Suwon_CH02_20200720_2130_MON_9m_NH_highway_TW5_sunny_FHD_044.txt',\n",
       " '/home/jupyter/highway/bbox_highway/test/labels/Suwon_CH02_20200720_2130_MON_9m_NH_highway_TW5_sunny_FHD_045.txt',\n",
       " '/home/jupyter/highway/bbox_highway/test/labels/Suwon_CH02_20200720_2130_MON_9m_NH_highway_TW5_sunny_FHD_046.txt',\n",
       " '/home/jupyter/highway/bbox_highway/test/labels/Suwon_CH02_20200720_2130_MON_9m_NH_highway_TW5_sunny_FHD_047.txt',\n",
       " '/home/jupyter/highway/bbox_highway/test/labels/Suwon_CH02_20200720_2130_MON_9m_NH_highway_TW5_sunny_FHD_048.txt',\n",
       " '/home/jupyter/highway/bbox_highway/test/labels/Suwon_CH02_20200720_2130_MON_9m_NH_highway_TW5_sunny_FHD_049.txt',\n",
       " '/home/jupyter/highway/bbox_highway/test/labels/Suwon_CH02_20200720_2130_MON_9m_NH_highway_TW5_sunny_FHD_050.txt',\n",
       " '/home/jupyter/highway/bbox_highway/test/labels/Suwon_CH02_20200720_2130_MON_9m_NH_highway_TW5_sunny_FHD_051.txt',\n",
       " '/home/jupyter/highway/bbox_highway/test/labels/Suwon_CH02_20200720_2130_MON_9m_NH_highway_TW5_sunny_FHD_052.txt',\n",
       " '/home/jupyter/highway/bbox_highway/test/labels/Suwon_CH02_20200720_2130_MON_9m_NH_highway_TW5_sunny_FHD_053.txt',\n",
       " '/home/jupyter/highway/bbox_highway/test/labels/Suwon_CH02_20200720_2130_MON_9m_NH_highway_TW5_sunny_FHD_054.txt',\n",
       " '/home/jupyter/highway/bbox_highway/test/labels/Suwon_CH02_20200720_2130_MON_9m_NH_highway_TW5_sunny_FHD_055.txt',\n",
       " '/home/jupyter/highway/bbox_highway/test/labels/Suwon_CH02_20200720_2130_MON_9m_NH_highway_TW5_sunny_FHD_056.txt',\n",
       " '/home/jupyter/highway/bbox_highway/test/labels/Suwon_CH02_20200720_2130_MON_9m_NH_highway_TW5_sunny_FHD_057.txt',\n",
       " '/home/jupyter/highway/bbox_highway/test/labels/Suwon_CH02_20200720_2130_MON_9m_NH_highway_TW5_sunny_FHD_058.txt',\n",
       " '/home/jupyter/highway/bbox_highway/test/labels/Suwon_CH02_20200720_2130_MON_9m_NH_highway_TW5_sunny_FHD_059.txt',\n",
       " '/home/jupyter/highway/bbox_highway/test/labels/Suwon_CH02_20200720_2130_MON_9m_NH_highway_TW5_sunny_FHD_060.txt',\n",
       " '/home/jupyter/highway/bbox_highway/test/labels/Suwon_CH02_20200720_2130_MON_9m_NH_highway_TW5_sunny_FHD_061.txt',\n",
       " '/home/jupyter/highway/bbox_highway/test/labels/Suwon_CH02_20200720_2130_MON_9m_NH_highway_TW5_sunny_FHD_062.txt',\n",
       " '/home/jupyter/highway/bbox_highway/test/labels/Suwon_CH02_20200720_2130_MON_9m_NH_highway_TW5_sunny_FHD_063.txt',\n",
       " '/home/jupyter/highway/bbox_highway/test/labels/Suwon_CH02_20200720_2130_MON_9m_NH_highway_TW5_sunny_FHD_064.txt',\n",
       " '/home/jupyter/highway/bbox_highway/test/labels/Suwon_CH02_20200720_2130_MON_9m_NH_highway_TW5_sunny_FHD_065.txt',\n",
       " '/home/jupyter/highway/bbox_highway/test/labels/Suwon_CH02_20200720_2130_MON_9m_NH_highway_TW5_sunny_FHD_066.txt',\n",
       " '/home/jupyter/highway/bbox_highway/test/labels/Suwon_CH02_20200720_2130_MON_9m_NH_highway_TW5_sunny_FHD_067.txt',\n",
       " '/home/jupyter/highway/bbox_highway/test/labels/Suwon_CH02_20200720_2130_MON_9m_NH_highway_TW5_sunny_FHD_068.txt',\n",
       " '/home/jupyter/highway/bbox_highway/test/labels/Suwon_CH02_20200720_2130_MON_9m_NH_highway_TW5_sunny_FHD_069.txt',\n",
       " '/home/jupyter/highway/bbox_highway/test/labels/Suwon_CH02_20200720_2130_MON_9m_NH_highway_TW5_sunny_FHD_070.txt',\n",
       " '/home/jupyter/highway/bbox_highway/test/labels/Suwon_CH02_20200720_2130_MON_9m_NH_highway_TW5_sunny_FHD_071.txt',\n",
       " '/home/jupyter/highway/bbox_highway/test/labels/Suwon_CH02_20200720_2130_MON_9m_NH_highway_TW5_sunny_FHD_072.txt',\n",
       " '/home/jupyter/highway/bbox_highway/test/labels/Suwon_CH02_20200720_2130_MON_9m_NH_highway_TW5_sunny_FHD_073.txt',\n",
       " '/home/jupyter/highway/bbox_highway/test/labels/Suwon_CH02_20200720_2130_MON_9m_NH_highway_TW5_sunny_FHD_074.txt',\n",
       " '/home/jupyter/highway/bbox_highway/test/labels/Suwon_CH02_20200720_2130_MON_9m_NH_highway_TW5_sunny_FHD_075.txt',\n",
       " '/home/jupyter/highway/bbox_highway/test/labels/Suwon_CH02_20200720_2130_MON_9m_NH_highway_TW5_sunny_FHD_076.txt',\n",
       " '/home/jupyter/highway/bbox_highway/test/labels/Suwon_CH02_20200720_2130_MON_9m_NH_highway_TW5_sunny_FHD_077.txt',\n",
       " '/home/jupyter/highway/bbox_highway/test/labels/Suwon_CH02_20200720_2130_MON_9m_NH_highway_TW5_sunny_FHD_078.txt',\n",
       " '/home/jupyter/highway/bbox_highway/test/labels/Suwon_CH02_20200720_2130_MON_9m_NH_highway_TW5_sunny_FHD_079.txt',\n",
       " '/home/jupyter/highway/bbox_highway/test/labels/Suwon_CH02_20200720_2130_MON_9m_NH_highway_TW5_sunny_FHD_080.txt',\n",
       " '/home/jupyter/highway/bbox_highway/test/labels/Suwon_CH02_20200720_2130_MON_9m_NH_highway_TW5_sunny_FHD_081.txt',\n",
       " '/home/jupyter/highway/bbox_highway/test/labels/Suwon_CH02_20200720_2130_MON_9m_NH_highway_TW5_sunny_FHD_082.txt',\n",
       " '/home/jupyter/highway/bbox_highway/test/labels/Suwon_CH02_20200720_2130_MON_9m_NH_highway_TW5_sunny_FHD_083.txt',\n",
       " '/home/jupyter/highway/bbox_highway/test/labels/Suwon_CH02_20200720_2130_MON_9m_NH_highway_TW5_sunny_FHD_084.txt',\n",
       " '/home/jupyter/highway/bbox_highway/test/labels/Suwon_CH02_20200720_2130_MON_9m_NH_highway_TW5_sunny_FHD_085.txt',\n",
       " '/home/jupyter/highway/bbox_highway/test/labels/Suwon_CH02_20200720_2130_MON_9m_NH_highway_TW5_sunny_FHD_086.txt',\n",
       " '/home/jupyter/highway/bbox_highway/test/labels/Suwon_CH02_20200720_2130_MON_9m_NH_highway_TW5_sunny_FHD_087.txt',\n",
       " '/home/jupyter/highway/bbox_highway/test/labels/Suwon_CH02_20200720_2130_MON_9m_NH_highway_TW5_sunny_FHD_088.txt',\n",
       " '/home/jupyter/highway/bbox_highway/test/labels/Suwon_CH02_20200720_2130_MON_9m_NH_highway_TW5_sunny_FHD_089.txt',\n",
       " '/home/jupyter/highway/bbox_highway/test/labels/Suwon_CH02_20200720_2130_MON_9m_NH_highway_TW5_sunny_FHD_090.txt',\n",
       " '/home/jupyter/highway/bbox_highway/test/labels/Suwon_CH02_20200720_2130_MON_9m_NH_highway_TW5_sunny_FHD_091.txt',\n",
       " '/home/jupyter/highway/bbox_highway/test/labels/Suwon_CH02_20200720_2130_MON_9m_NH_highway_TW5_sunny_FHD_092.txt',\n",
       " '/home/jupyter/highway/bbox_highway/test/labels/Suwon_CH02_20200720_2130_MON_9m_NH_highway_TW5_sunny_FHD_093.txt',\n",
       " '/home/jupyter/highway/bbox_highway/test/labels/Suwon_CH02_20200720_2130_MON_9m_NH_highway_TW5_sunny_FHD_094.txt',\n",
       " '/home/jupyter/highway/bbox_highway/test/labels/Suwon_CH02_20200720_2130_MON_9m_NH_highway_TW5_sunny_FHD_095.txt',\n",
       " '/home/jupyter/highway/bbox_highway/test/labels/Suwon_CH02_20200720_2130_MON_9m_NH_highway_TW5_sunny_FHD_096.txt',\n",
       " '/home/jupyter/highway/bbox_highway/test/labels/Suwon_CH02_20200720_2130_MON_9m_NH_highway_TW5_sunny_FHD_097.txt',\n",
       " '/home/jupyter/highway/bbox_highway/test/labels/Suwon_CH02_20200720_2130_MON_9m_NH_highway_TW5_sunny_FHD_098.txt',\n",
       " '/home/jupyter/highway/bbox_highway/test/labels/Suwon_CH02_20200720_2130_MON_9m_NH_highway_TW5_sunny_FHD_099.txt',\n",
       " '/home/jupyter/highway/bbox_highway/test/labels/Suwon_CH02_20200720_2130_MON_9m_NH_highway_TW5_sunny_FHD_100.txt',\n",
       " '/home/jupyter/highway/bbox_highway/test/labels/Suwon_CH02_20200720_2130_MON_9m_NH_highway_TW5_sunny_FHD_101.txt',\n",
       " '/home/jupyter/highway/bbox_highway/test/labels/Suwon_CH02_20200720_2130_MON_9m_NH_highway_TW5_sunny_FHD_102.txt',\n",
       " '/home/jupyter/highway/bbox_highway/test/labels/Suwon_CH02_20200720_2130_MON_9m_NH_highway_TW5_sunny_FHD_103.txt',\n",
       " '/home/jupyter/highway/bbox_highway/test/labels/Suwon_CH02_20200720_2130_MON_9m_NH_highway_TW5_sunny_FHD_104.txt',\n",
       " '/home/jupyter/highway/bbox_highway/test/labels/Suwon_CH02_20200720_2130_MON_9m_NH_highway_TW5_sunny_FHD_105.txt',\n",
       " '/home/jupyter/highway/bbox_highway/test/labels/Suwon_CH02_20200720_2130_MON_9m_NH_highway_TW5_sunny_FHD_106.txt',\n",
       " '/home/jupyter/highway/bbox_highway/test/labels/Suwon_CH02_20200720_2130_MON_9m_NH_highway_TW5_sunny_FHD_107.txt',\n",
       " '/home/jupyter/highway/bbox_highway/test/labels/Suwon_CH02_20200720_2130_MON_9m_NH_highway_TW5_sunny_FHD_108.txt',\n",
       " '/home/jupyter/highway/bbox_highway/test/labels/Suwon_CH02_20200720_2130_MON_9m_NH_highway_TW5_sunny_FHD_109.txt',\n",
       " '/home/jupyter/highway/bbox_highway/test/labels/Suwon_CH02_20200720_2130_MON_9m_NH_highway_TW5_sunny_FHD_110.txt',\n",
       " '/home/jupyter/highway/bbox_highway/test/labels/Suwon_CH02_20200720_2130_MON_9m_NH_highway_TW5_sunny_FHD_111.txt',\n",
       " '/home/jupyter/highway/bbox_highway/test/labels/Suwon_CH02_20200720_2130_MON_9m_NH_highway_TW5_sunny_FHD_112.txt',\n",
       " '/home/jupyter/highway/bbox_highway/test/labels/Suwon_CH02_20200720_2130_MON_9m_NH_highway_TW5_sunny_FHD_113.txt',\n",
       " '/home/jupyter/highway/bbox_highway/test/labels/Suwon_CH02_20200720_2130_MON_9m_NH_highway_TW5_sunny_FHD_114.txt',\n",
       " '/home/jupyter/highway/bbox_highway/test/labels/Suwon_CH02_20200720_2130_MON_9m_NH_highway_TW5_sunny_FHD_115.txt',\n",
       " '/home/jupyter/highway/bbox_highway/test/labels/Suwon_CH02_20200720_2130_MON_9m_NH_highway_TW5_sunny_FHD_116.txt',\n",
       " '/home/jupyter/highway/bbox_highway/test/labels/Suwon_CH02_20200720_2130_MON_9m_NH_highway_TW5_sunny_FHD_117.txt',\n",
       " '/home/jupyter/highway/bbox_highway/test/labels/Suwon_CH02_20200720_2130_MON_9m_NH_highway_TW5_sunny_FHD_118.txt',\n",
       " '/home/jupyter/highway/bbox_highway/test/labels/Suwon_CH02_20200720_2130_MON_9m_NH_highway_TW5_sunny_FHD_119.txt',\n",
       " '/home/jupyter/highway/bbox_highway/test/labels/Suwon_CH02_20200720_2130_MON_9m_NH_highway_TW5_sunny_FHD_120.txt',\n",
       " '/home/jupyter/highway/bbox_highway/test/labels/Suwon_CH02_20200720_2130_MON_9m_NH_highway_TW5_sunny_FHD_121.txt',\n",
       " '/home/jupyter/highway/bbox_highway/test/labels/Suwon_CH02_20200720_2130_MON_9m_NH_highway_TW5_sunny_FHD_122.txt',\n",
       " '/home/jupyter/highway/bbox_highway/test/labels/Suwon_CH02_20200720_2130_MON_9m_NH_highway_TW5_sunny_FHD_123.txt',\n",
       " '/home/jupyter/highway/bbox_highway/test/labels/Suwon_CH02_20200720_2130_MON_9m_NH_highway_TW5_sunny_FHD_124.txt',\n",
       " '/home/jupyter/highway/bbox_highway/test/labels/Suwon_CH02_20200720_2130_MON_9m_NH_highway_TW5_sunny_FHD_125.txt',\n",
       " '/home/jupyter/highway/bbox_highway/test/labels/Suwon_CH02_20200720_2130_MON_9m_NH_highway_TW5_sunny_FHD_126.txt',\n",
       " '/home/jupyter/highway/bbox_highway/test/labels/Suwon_CH02_20200720_2130_MON_9m_NH_highway_TW5_sunny_FHD_127.txt',\n",
       " '/home/jupyter/highway/bbox_highway/test/labels/Suwon_CH02_20200720_2130_MON_9m_NH_highway_TW5_sunny_FHD_128.txt',\n",
       " '/home/jupyter/highway/bbox_highway/test/labels/Suwon_CH02_20200720_2130_MON_9m_NH_highway_TW5_sunny_FHD_129.txt',\n",
       " '/home/jupyter/highway/bbox_highway/test/labels/Suwon_CH02_20200720_2130_MON_9m_NH_highway_TW5_sunny_FHD_130.txt',\n",
       " '/home/jupyter/highway/bbox_highway/test/labels/Suwon_CH02_20200720_2130_MON_9m_NH_highway_TW5_sunny_FHD_131.txt',\n",
       " '/home/jupyter/highway/bbox_highway/test/labels/Suwon_CH02_20200720_2130_MON_9m_NH_highway_TW5_sunny_FHD_132.txt',\n",
       " '/home/jupyter/highway/bbox_highway/test/labels/Suwon_CH02_20200720_2130_MON_9m_NH_highway_TW5_sunny_FHD_133.txt',\n",
       " '/home/jupyter/highway/bbox_highway/test/labels/Suwon_CH02_20200720_2130_MON_9m_NH_highway_TW5_sunny_FHD_134.txt',\n",
       " '/home/jupyter/highway/bbox_highway/test/labels/Suwon_CH02_20200720_2130_MON_9m_NH_highway_TW5_sunny_FHD_135.txt',\n",
       " '/home/jupyter/highway/bbox_highway/test/labels/Suwon_CH02_20200720_2130_MON_9m_NH_highway_TW5_sunny_FHD_136.txt',\n",
       " '/home/jupyter/highway/bbox_highway/test/labels/Suwon_CH02_20200720_2130_MON_9m_NH_highway_TW5_sunny_FHD_137.txt',\n",
       " '/home/jupyter/highway/bbox_highway/test/labels/Suwon_CH02_20200720_2130_MON_9m_NH_highway_TW5_sunny_FHD_138.txt',\n",
       " '/home/jupyter/highway/bbox_highway/test/labels/Suwon_CH02_20200720_2130_MON_9m_NH_highway_TW5_sunny_FHD_139.txt',\n",
       " '/home/jupyter/highway/bbox_highway/test/labels/Suwon_CH02_20200720_2130_MON_9m_NH_highway_TW5_sunny_FHD_140.txt',\n",
       " '/home/jupyter/highway/bbox_highway/test/labels/Suwon_CH02_20200720_2130_MON_9m_NH_highway_TW5_sunny_FHD_141.txt',\n",
       " '/home/jupyter/highway/bbox_highway/test/labels/Suwon_CH02_20200720_2130_MON_9m_NH_highway_TW5_sunny_FHD_142.txt',\n",
       " '/home/jupyter/highway/bbox_highway/test/labels/Suwon_CH02_20200720_2130_MON_9m_NH_highway_TW5_sunny_FHD_143.txt',\n",
       " '/home/jupyter/highway/bbox_highway/test/labels/Suwon_CH02_20200720_2130_MON_9m_NH_highway_TW5_sunny_FHD_144.txt',\n",
       " '/home/jupyter/highway/bbox_highway/test/labels/Suwon_CH02_20200720_2130_MON_9m_NH_highway_TW5_sunny_FHD_145.txt',\n",
       " '/home/jupyter/highway/bbox_highway/test/labels/Suwon_CH02_20200720_2130_MON_9m_NH_highway_TW5_sunny_FHD_146.txt',\n",
       " '/home/jupyter/highway/bbox_highway/test/labels/Suwon_CH02_20200720_2130_MON_9m_NH_highway_TW5_sunny_FHD_147.txt',\n",
       " '/home/jupyter/highway/bbox_highway/test/labels/Suwon_CH02_20200720_2130_MON_9m_NH_highway_TW5_sunny_FHD_148.txt',\n",
       " '/home/jupyter/highway/bbox_highway/test/labels/Suwon_CH02_20200720_2130_MON_9m_NH_highway_TW5_sunny_FHD_149.txt',\n",
       " '/home/jupyter/highway/bbox_highway/test/labels/Suwon_CH02_20200720_2130_MON_9m_NH_highway_TW5_sunny_FHD_150.txt']"
      ]
     },
     "execution_count": 14,
     "metadata": {},
     "output_type": "execute_result"
    }
   ],
   "source": [
    "from distutils.dir_util import copy_tree\n",
    "\n",
    "copy_tree(testfolderPath, tobasePath)"
   ]
  },
  {
   "cell_type": "markdown",
   "id": "16626c56-6b6a-4ea2-bb8e-5727b9ab9fc7",
   "metadata": {},
   "source": [
    "폴더 없는 상태에서도 만들어 줌!"
   ]
  },
  {
   "cell_type": "code",
   "execution_count": 15,
   "id": "67624a7e-77e4-49ab-89ff-d7842d3c9250",
   "metadata": {
    "tags": []
   },
   "outputs": [],
   "source": [
    "# from distutils.dir_util import copy_tree\n",
    "\n",
    "for folder in valid_filename[:21]:\n",
    "    testfolderPath = os.path.join(frombasePath, folder)\n",
    "    copy_tree(testfolderPath, tobasePath)"
   ]
  },
  {
   "cell_type": "code",
   "execution_count": 16,
   "id": "1fdf0340-4d9f-4f18-a90b-2d7f85767fa4",
   "metadata": {
    "tags": []
   },
   "outputs": [],
   "source": [
    "frombasePath_validImg = '{}/dataset/highway_total/valid/image/BB_01수도권영동선_Validation_image'.format(HOME)\n",
    "tobasePath_validImg = '{}/highway/bbox_highway/test/images'.format(HOME)\n",
    "\n",
    "for folder in valid_filename[:21]:\n",
    "    testfolderPath = os.path.join(frombasePath_validImg, folder)\n",
    "    copy_tree(testfolderPath, tobasePath_validImg)"
   ]
  },
  {
   "cell_type": "code",
   "execution_count": null,
   "id": "3bc2eb1d-9424-4182-97d1-c6570e6a993a",
   "metadata": {},
   "outputs": [],
   "source": []
  }
 ],
 "metadata": {
  "environment": {
   "kernel": "python3",
   "name": ".m113",
   "type": "gcloud",
   "uri": "gcr.io/deeplearning-platform-release/:m113"
  },
  "kernelspec": {
   "display_name": "Python 3",
   "language": "python",
   "name": "python3"
  },
  "language_info": {
   "codemirror_mode": {
    "name": "ipython",
    "version": 3
   },
   "file_extension": ".py",
   "mimetype": "text/x-python",
   "name": "python",
   "nbconvert_exporter": "python",
   "pygments_lexer": "ipython3",
   "version": "3.10.13"
  }
 },
 "nbformat": 4,
 "nbformat_minor": 5
}
