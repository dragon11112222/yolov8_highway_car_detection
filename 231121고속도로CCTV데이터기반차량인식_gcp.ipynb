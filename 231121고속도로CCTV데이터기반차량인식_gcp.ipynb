{
 "cells": [
  {
   "cell_type": "code",
   "execution_count": 1,
   "metadata": {
    "colab": {
     "base_uri": "https://localhost:8080/"
    },
    "executionInfo": {
     "elapsed": 520,
     "status": "ok",
     "timestamp": 1700201071529,
     "user": {
      "displayName": "Seyong Jung",
      "userId": "10440673311570958840"
     },
     "user_tz": -540
    },
    "id": "lC6Zi64FvL6-",
    "outputId": "6379d433-29c4-4e7c-89b7-929f0127d7a6",
    "tags": []
   },
   "outputs": [
    {
     "name": "stdout",
     "output_type": "stream",
     "text": [
      "/home/jupyter\n"
     ]
    }
   ],
   "source": [
    "!pwd"
   ]
  },
  {
   "cell_type": "code",
   "execution_count": 2,
   "metadata": {
    "colab": {
     "base_uri": "https://localhost:8080/",
     "height": 35
    },
    "executionInfo": {
     "elapsed": 341,
     "status": "ok",
     "timestamp": 1700201763350,
     "user": {
      "displayName": "Seyong Jung",
      "userId": "10440673311570958840"
     },
     "user_tz": -540
    },
    "id": "xT5JU3a-0XIu",
    "outputId": "3ed6f81a-96b0-4fc4-c61a-dd9146931d08",
    "tags": []
   },
   "outputs": [
    {
     "data": {
      "text/plain": [
       "'/home/jupyter'"
      ]
     },
     "execution_count": 2,
     "metadata": {},
     "output_type": "execute_result"
    }
   ],
   "source": [
    "import os\n",
    "\n",
    "# %cd ..\n",
    "# %cd {HOME}\n",
    "\n",
    "HOME = os.getcwd()\n",
    "HOME"
   ]
  },
  {
   "cell_type": "code",
   "execution_count": 3,
   "metadata": {
    "colab": {
     "base_uri": "https://localhost:8080/"
    },
    "executionInfo": {
     "elapsed": 3159,
     "status": "ok",
     "timestamp": 1700199994545,
     "user": {
      "displayName": "Seyong Jung",
      "userId": "10440673311570958840"
     },
     "user_tz": -540
    },
    "id": "BEDqpTI80wx5",
    "outputId": "0174f9d6-7249-4c5f-8b64-51f9b30e4b87",
    "tags": []
   },
   "outputs": [
    {
     "name": "stdout",
     "output_type": "stream",
     "text": [
      "Ultralytics YOLOv8.0.215 🚀 Python-3.10.13 torch-1.13.1+cu117 CUDA:0 (Tesla V100-SXM2-16GB, 16161MiB)\n",
      "Setup complete ✅ (4 CPUs, 14.6 GB RAM, 34.3/98.2 GB disk)\n"
     ]
    }
   ],
   "source": [
    "!git clone https://github.com/ultralytics/ultralytics\n",
    "%cd ultralytics\n",
    "!pip install -e .\n",
    "\n",
    "import ultralytics\n",
    "\n",
    "ultralytics.checks()"
   ]
  },
  {
   "cell_type": "markdown",
   "metadata": {
    "tags": []
   },
   "source": [
    "# 복구 후 압축 풀기부터 다시 시작!"
   ]
  },
  {
   "cell_type": "code",
   "execution_count": 11,
   "metadata": {
    "tags": []
   },
   "outputs": [
    {
     "data": {
      "text/plain": [
       "'/home/jupyter/bbox_highway_small.zip'"
      ]
     },
     "execution_count": 11,
     "metadata": {},
     "output_type": "execute_result"
    }
   ],
   "source": [
    "zipPath = '{}/bbox_highway_small.zip'.format(HOME)\n",
    "zipPath"
   ]
  },
  {
   "cell_type": "code",
   "execution_count": null,
   "metadata": {},
   "outputs": [],
   "source": [
    "!mkdir highway"
   ]
  },
  {
   "cell_type": "markdown",
   "metadata": {},
   "source": [
    "압축파일 업로드 끝난 후 압축 풀어야 함! small인데도 시간 좀 걸림!"
   ]
  },
  {
   "cell_type": "code",
   "execution_count": 15,
   "metadata": {
    "colab": {
     "base_uri": "https://localhost:8080/"
    },
    "executionInfo": {
     "elapsed": 9373,
     "status": "ok",
     "timestamp": 1700200944998,
     "user": {
      "displayName": "Seyong Jung",
      "userId": "10440673311570958840"
     },
     "user_tz": -540
    },
    "id": "3_RC5Xdf0Sq-",
    "outputId": "fb050853-76b6-42ec-b0f9-dc88cbc63870",
    "tags": []
   },
   "outputs": [
    {
     "name": "stdout",
     "output_type": "stream",
     "text": [
      "Archive:  /home/jupyter/bbox_highway_small.zip\n",
      "  inflating: highway/bbox_highway/train/labels.cache  \n",
      "  inflating: highway/bbox_highway/Suwon_CH02_20200722_1600_WED_9m_RH_highway_TW5_rainy_FHD.xml  \n",
      "  inflating: highway/bbox_highway/val/labels.cache  \n",
      "  inflating: highway/bbox_highway/test/labels/Suwon_CH02_20200722_1600_WED_9m_RH_highway_TW5_rainy_FHD_096.txt  \n",
      "  inflating: highway/bbox_highway/val/labels/Suwon_CH02_20200722_1600_WED_9m_RH_highway_TW5_rainy_FHD_093.txt  \n",
      "  inflating: highway/bbox_highway/test/labels/Suwon_CH02_20200722_1600_WED_9m_RH_highway_TW5_rainy_FHD_097.txt  \n",
      "  inflating: highway/bbox_highway/val/images/Suwon_CH02_20200722_1600_WED_9m_RH_highway_TW5_rainy_FHD_093.png  \n",
      "  inflating: highway/bbox_highway/val/labels/Suwon_CH02_20200722_1600_WED_9m_RH_highway_TW5_rainy_FHD_095.txt  \n",
      "  inflating: highway/bbox_highway/val/images/Suwon_CH02_20200722_1600_WED_9m_RH_highway_TW5_rainy_FHD_094.png  \n",
      "  inflating: highway/bbox_highway/val/labels/Suwon_CH02_20200722_1600_WED_9m_RH_highway_TW5_rainy_FHD_092.txt  \n",
      "  inflating: highway/bbox_highway/train/.DS_Store  \n",
      "  inflating: highway/bbox_highway/test/labels/Suwon_CH02_20200722_1600_WED_9m_RH_highway_TW5_rainy_FHD_099.txt  \n",
      "  inflating: highway/bbox_highway/data.yaml  \n",
      "  inflating: highway/bbox_highway/val/labels/Suwon_CH02_20200722_1600_WED_9m_RH_highway_TW5_rainy_FHD_091.txt  \n",
      "  inflating: highway/bbox_highway/val/images/Suwon_CH02_20200722_1600_WED_9m_RH_highway_TW5_rainy_FHD_095.png  \n",
      "  inflating: highway/bbox_highway/test/.DS_Store  \n",
      "  inflating: highway/bbox_highway/test/labels/Suwon_CH02_20200722_1600_WED_9m_RH_highway_TW5_rainy_FHD_100.txt  \n",
      "  inflating: highway/bbox_highway/val/labels/Suwon_CH02_20200722_1600_WED_9m_RH_highway_TW5_rainy_FHD_094.txt  \n",
      "  inflating: highway/bbox_highway/test/images/Suwon_CH02_20200722_1600_WED_9m_RH_highway_TW5_rainy_FHD_097.png  \n",
      "  inflating: highway/bbox_highway/train/labels/Suwon_CH02_20200722_1600_WED_9m_RH_highway_TW5_rainy_FHD_085.txt  \n",
      "  inflating: highway/bbox_highway/train/labels/Suwon_CH02_20200722_1600_WED_9m_RH_highway_TW5_rainy_FHD_072.txt  \n",
      "  inflating: highway/bbox_highway/train/labels/Suwon_CH02_20200722_1600_WED_9m_RH_highway_TW5_rainy_FHD_070.txt  \n",
      "  inflating: highway/bbox_highway/train/labels/Suwon_CH02_20200722_1600_WED_9m_RH_highway_TW5_rainy_FHD_073.txt  \n",
      "  inflating: highway/bbox_highway/val/.DS_Store  \n",
      "  inflating: highway/bbox_highway/train/labels/Suwon_CH02_20200722_1600_WED_9m_RH_highway_TW5_rainy_FHD_078.txt  \n",
      "  inflating: highway/bbox_highway/test/labels/Suwon_CH02_20200722_1600_WED_9m_RH_highway_TW5_rainy_FHD_098.txt  \n",
      "  inflating: highway/bbox_highway/test/images/Suwon_CH02_20200722_1600_WED_9m_RH_highway_TW5_rainy_FHD_099.png  \n",
      "  inflating: highway/bbox_highway/train/labels/Suwon_CH02_20200722_1600_WED_9m_RH_highway_TW5_rainy_FHD_065.txt  \n",
      "  inflating: highway/bbox_highway/train/labels/Suwon_CH02_20200722_1600_WED_9m_RH_highway_TW5_rainy_FHD_058.txt  \n",
      "  inflating: highway/bbox_highway/val/images/Suwon_CH02_20200722_1600_WED_9m_RH_highway_TW5_rainy_FHD_092.png  \n",
      "  inflating: highway/bbox_highway/test/images/Suwon_CH02_20200722_1600_WED_9m_RH_highway_TW5_rainy_FHD_098.png  \n",
      "  inflating: highway/bbox_highway/train/labels/Suwon_CH02_20200722_1600_WED_9m_RH_highway_TW5_rainy_FHD_067.txt  \n",
      "  inflating: highway/bbox_highway/train/labels/Suwon_CH02_20200722_1600_WED_9m_RH_highway_TW5_rainy_FHD_069.txt  \n",
      "  inflating: highway/bbox_highway/train/labels/Suwon_CH02_20200722_1600_WED_9m_RH_highway_TW5_rainy_FHD_088.txt  \n",
      "  inflating: highway/bbox_highway/val/images/Suwon_CH02_20200722_1600_WED_9m_RH_highway_TW5_rainy_FHD_091.png  \n",
      "  inflating: highway/bbox_highway/train/labels/Suwon_CH02_20200722_1600_WED_9m_RH_highway_TW5_rainy_FHD_056.txt  \n",
      "  inflating: highway/bbox_highway/train/labels/Suwon_CH02_20200722_1600_WED_9m_RH_highway_TW5_rainy_FHD_083.txt  \n",
      "  inflating: highway/bbox_highway/train/labels/Suwon_CH02_20200722_1600_WED_9m_RH_highway_TW5_rainy_FHD_061.txt  \n",
      "  inflating: highway/bbox_highway/train/labels/Suwon_CH02_20200722_1600_WED_9m_RH_highway_TW5_rainy_FHD_038.txt  \n",
      "  inflating: highway/bbox_highway/train/labels/Suwon_CH02_20200722_1600_WED_9m_RH_highway_TW5_rainy_FHD_057.txt  \n",
      "  inflating: highway/bbox_highway/train/labels/Suwon_CH02_20200722_1600_WED_9m_RH_highway_TW5_rainy_FHD_060.txt  \n",
      "  inflating: highway/bbox_highway/train/labels/Suwon_CH02_20200722_1600_WED_9m_RH_highway_TW5_rainy_FHD_080.txt  \n",
      "  inflating: highway/bbox_highway/train/labels/Suwon_CH02_20200722_1600_WED_9m_RH_highway_TW5_rainy_FHD_087.txt  \n",
      "  inflating: highway/bbox_highway/train/labels/Suwon_CH02_20200722_1600_WED_9m_RH_highway_TW5_rainy_FHD_062.txt  \n",
      "  inflating: highway/bbox_highway/train/labels/Suwon_CH02_20200722_1600_WED_9m_RH_highway_TW5_rainy_FHD_071.txt  \n",
      "  inflating: highway/bbox_highway/train/labels/Suwon_CH02_20200722_1600_WED_9m_RH_highway_TW5_rainy_FHD_089.txt  \n",
      "  inflating: highway/bbox_highway/train/labels/Suwon_CH02_20200722_1600_WED_9m_RH_highway_TW5_rainy_FHD_082.txt  \n",
      "  inflating: highway/bbox_highway/train/labels/Suwon_CH02_20200722_1600_WED_9m_RH_highway_TW5_rainy_FHD_086.txt  \n",
      "  inflating: highway/bbox_highway/train/labels/Suwon_CH02_20200722_1600_WED_9m_RH_highway_TW5_rainy_FHD_033.txt  \n",
      "  inflating: highway/bbox_highway/test/images/Suwon_CH02_20200722_1600_WED_9m_RH_highway_TW5_rainy_FHD_096.png  \n",
      "  inflating: highway/bbox_highway/train/labels/Suwon_CH02_20200722_1600_WED_9m_RH_highway_TW5_rainy_FHD_063.txt  \n",
      "  inflating: highway/bbox_highway/train/labels/Suwon_CH02_20200722_1600_WED_9m_RH_highway_TW5_rainy_FHD_084.txt  \n",
      "  inflating: highway/bbox_highway/train/labels/Suwon_CH02_20200722_1600_WED_9m_RH_highway_TW5_rainy_FHD_064.txt  \n",
      "  inflating: highway/bbox_highway/train/labels/Suwon_CH02_20200722_1600_WED_9m_RH_highway_TW5_rainy_FHD_066.txt  \n",
      "  inflating: highway/bbox_highway/train/labels/Suwon_CH02_20200722_1600_WED_9m_RH_highway_TW5_rainy_FHD_074.txt  \n",
      "  inflating: highway/bbox_highway/train/labels/Suwon_CH02_20200722_1600_WED_9m_RH_highway_TW5_rainy_FHD_044.txt  \n",
      "  inflating: highway/bbox_highway/train/labels/Suwon_CH02_20200722_1600_WED_9m_RH_highway_TW5_rainy_FHD_059.txt  \n",
      "  inflating: highway/bbox_highway/train/labels/Suwon_CH02_20200722_1600_WED_9m_RH_highway_TW5_rainy_FHD_075.txt  \n",
      "  inflating: highway/bbox_highway/train/labels/Suwon_CH02_20200722_1600_WED_9m_RH_highway_TW5_rainy_FHD_081.txt  \n",
      "  inflating: highway/bbox_highway/train/labels/Suwon_CH02_20200722_1600_WED_9m_RH_highway_TW5_rainy_FHD_068.txt  \n",
      "  inflating: highway/bbox_highway/train/labels/Suwon_CH02_20200722_1600_WED_9m_RH_highway_TW5_rainy_FHD_020.txt  \n",
      "  inflating: highway/bbox_highway/train/labels/Suwon_CH02_20200722_1600_WED_9m_RH_highway_TW5_rainy_FHD_079.txt  \n",
      "  inflating: highway/bbox_highway/train/labels/Suwon_CH02_20200722_1600_WED_9m_RH_highway_TW5_rainy_FHD_007.txt  \n",
      "  inflating: highway/bbox_highway/train/labels/Suwon_CH02_20200722_1600_WED_9m_RH_highway_TW5_rainy_FHD_034.txt  \n",
      "  inflating: highway/bbox_highway/train/labels/Suwon_CH02_20200722_1600_WED_9m_RH_highway_TW5_rainy_FHD_076.txt  \n",
      "  inflating: highway/bbox_highway/train/labels/Suwon_CH02_20200722_1600_WED_9m_RH_highway_TW5_rainy_FHD_006.txt  \n",
      "  inflating: highway/bbox_highway/test/images/Suwon_CH02_20200722_1600_WED_9m_RH_highway_TW5_rainy_FHD_100.png  \n",
      "  inflating: highway/bbox_highway/train/labels/Suwon_CH02_20200722_1600_WED_9m_RH_highway_TW5_rainy_FHD_042.txt  \n",
      "  inflating: highway/bbox_highway/train/labels/Suwon_CH02_20200722_1600_WED_9m_RH_highway_TW5_rainy_FHD_030.txt  \n",
      "  inflating: highway/bbox_highway/train/labels/Suwon_CH02_20200722_1600_WED_9m_RH_highway_TW5_rainy_FHD_011.txt  \n",
      "  inflating: highway/bbox_highway/train/labels/Suwon_CH02_20200722_1600_WED_9m_RH_highway_TW5_rainy_FHD_023.txt  \n",
      "  inflating: highway/bbox_highway/train/labels/Suwon_CH02_20200722_1600_WED_9m_RH_highway_TW5_rainy_FHD_036.txt  \n",
      "  inflating: highway/bbox_highway/train/labels/Suwon_CH02_20200722_1600_WED_9m_RH_highway_TW5_rainy_FHD_031.txt  \n",
      "  inflating: highway/bbox_highway/train/labels/Suwon_CH02_20200722_1600_WED_9m_RH_highway_TW5_rainy_FHD_032.txt  \n",
      "  inflating: highway/bbox_highway/train/labels/Suwon_CH02_20200722_1600_WED_9m_RH_highway_TW5_rainy_FHD_013.txt  \n",
      "  inflating: highway/bbox_highway/train/labels/Suwon_CH02_20200722_1600_WED_9m_RH_highway_TW5_rainy_FHD_046.txt  \n",
      "  inflating: highway/bbox_highway/train/labels/Suwon_CH02_20200722_1600_WED_9m_RH_highway_TW5_rainy_FHD_014.txt  \n",
      "  inflating: highway/bbox_highway/train/labels/Suwon_CH02_20200722_1600_WED_9m_RH_highway_TW5_rainy_FHD_037.txt  \n",
      "  inflating: highway/bbox_highway/train/labels/Suwon_CH02_20200722_1600_WED_9m_RH_highway_TW5_rainy_FHD_026.txt  \n",
      "  inflating: highway/bbox_highway/train/labels/Suwon_CH02_20200722_1600_WED_9m_RH_highway_TW5_rainy_FHD_050.txt  \n",
      "  inflating: highway/bbox_highway/train/labels/Suwon_CH02_20200722_1600_WED_9m_RH_highway_TW5_rainy_FHD_019.txt  \n",
      "  inflating: highway/bbox_highway/train/labels/Suwon_CH02_20200722_1600_WED_9m_RH_highway_TW5_rainy_FHD_022.txt  \n",
      "  inflating: highway/bbox_highway/train/labels/Suwon_CH02_20200722_1600_WED_9m_RH_highway_TW5_rainy_FHD_047.txt  \n",
      "  inflating: highway/bbox_highway/train/labels/Suwon_CH02_20200722_1600_WED_9m_RH_highway_TW5_rainy_FHD_008.txt  \n",
      "  inflating: highway/bbox_highway/train/labels/Suwon_CH02_20200722_1600_WED_9m_RH_highway_TW5_rainy_FHD_018.txt  \n",
      "  inflating: highway/bbox_highway/train/labels/Suwon_CH02_20200722_1600_WED_9m_RH_highway_TW5_rainy_FHD_009.txt  \n",
      "  inflating: highway/bbox_highway/train/labels/Suwon_CH02_20200722_1600_WED_9m_RH_highway_TW5_rainy_FHD_002.txt  \n",
      "  inflating: highway/bbox_highway/train/labels/Suwon_CH02_20200722_1600_WED_9m_RH_highway_TW5_rainy_FHD_041.txt  \n",
      "  inflating: highway/bbox_highway/train/labels/Suwon_CH02_20200722_1600_WED_9m_RH_highway_TW5_rainy_FHD_045.txt  \n",
      "  inflating: highway/bbox_highway/train/labels/Suwon_CH02_20200722_1600_WED_9m_RH_highway_TW5_rainy_FHD_077.txt  \n",
      "  inflating: highway/bbox_highway/train/labels/Suwon_CH02_20200722_1600_WED_9m_RH_highway_TW5_rainy_FHD_054.txt  \n",
      "  inflating: highway/bbox_highway/train/labels/Suwon_CH02_20200722_1600_WED_9m_RH_highway_TW5_rainy_FHD_052.txt  \n",
      "  inflating: highway/bbox_highway/train/labels/Suwon_CH02_20200722_1600_WED_9m_RH_highway_TW5_rainy_FHD_025.txt  \n",
      "  inflating: highway/bbox_highway/train/labels/Suwon_CH02_20200722_1600_WED_9m_RH_highway_TW5_rainy_FHD_029.txt  \n",
      "  inflating: highway/bbox_highway/train/labels/Suwon_CH02_20200722_1600_WED_9m_RH_highway_TW5_rainy_FHD_090.txt  \n",
      "  inflating: highway/bbox_highway/train/labels/Suwon_CH02_20200722_1600_WED_9m_RH_highway_TW5_rainy_FHD_028.txt  \n",
      "  inflating: highway/bbox_highway/train/labels/Suwon_CH02_20200722_1600_WED_9m_RH_highway_TW5_rainy_FHD_055.txt  \n",
      "  inflating: highway/bbox_highway/train/labels/Suwon_CH02_20200722_1600_WED_9m_RH_highway_TW5_rainy_FHD_040.txt  \n",
      "  inflating: highway/bbox_highway/train/labels/Suwon_CH02_20200722_1600_WED_9m_RH_highway_TW5_rainy_FHD_005.txt  \n",
      "  inflating: highway/bbox_highway/train/labels/Suwon_CH02_20200722_1600_WED_9m_RH_highway_TW5_rainy_FHD_027.txt  \n",
      "  inflating: highway/bbox_highway/train/labels/Suwon_CH02_20200722_1600_WED_9m_RH_highway_TW5_rainy_FHD_012.txt  \n",
      "  inflating: highway/bbox_highway/train/labels/Suwon_CH02_20200722_1600_WED_9m_RH_highway_TW5_rainy_FHD_016.txt  \n",
      "  inflating: highway/bbox_highway/train/labels/Suwon_CH02_20200722_1600_WED_9m_RH_highway_TW5_rainy_FHD_051.txt  \n",
      "  inflating: highway/bbox_highway/train/labels/Suwon_CH02_20200722_1600_WED_9m_RH_highway_TW5_rainy_FHD_039.txt  \n",
      "  inflating: highway/bbox_highway/train/labels/Suwon_CH02_20200722_1600_WED_9m_RH_highway_TW5_rainy_FHD_017.txt  \n",
      "  inflating: highway/bbox_highway/train/labels/Suwon_CH02_20200722_1600_WED_9m_RH_highway_TW5_rainy_FHD_049.txt  \n",
      "  inflating: highway/bbox_highway/train/labels/Suwon_CH02_20200722_1600_WED_9m_RH_highway_TW5_rainy_FHD_048.txt  \n",
      "  inflating: highway/bbox_highway/train/labels/Suwon_CH02_20200722_1600_WED_9m_RH_highway_TW5_rainy_FHD_035.txt  \n",
      "  inflating: highway/bbox_highway/train/labels/Suwon_CH02_20200722_1600_WED_9m_RH_highway_TW5_rainy_FHD_024.txt  \n",
      "  inflating: highway/bbox_highway/train/labels/Suwon_CH02_20200722_1600_WED_9m_RH_highway_TW5_rainy_FHD_004.txt  \n",
      "  inflating: highway/bbox_highway/train/labels/Suwon_CH02_20200722_1600_WED_9m_RH_highway_TW5_rainy_FHD_043.txt  \n",
      "  inflating: highway/bbox_highway/train/labels/Suwon_CH02_20200722_1600_WED_9m_RH_highway_TW5_rainy_FHD_010.txt  \n",
      "  inflating: highway/bbox_highway/train/images/Suwon_CH02_20200722_1600_WED_9m_RH_highway_TW5_rainy_FHD_069.png  \n",
      "  inflating: highway/bbox_highway/train/labels/Suwon_CH02_20200722_1600_WED_9m_RH_highway_TW5_rainy_FHD_021.txt  \n",
      "  inflating: highway/bbox_highway/train/labels/Suwon_CH02_20200722_1600_WED_9m_RH_highway_TW5_rainy_FHD_003.txt  \n",
      "  inflating: highway/bbox_highway/train/labels/Suwon_CH02_20200722_1600_WED_9m_RH_highway_TW5_rainy_FHD_015.txt  \n",
      "  inflating: highway/bbox_highway/train/images/Suwon_CH02_20200722_1600_WED_9m_RH_highway_TW5_rainy_FHD_064.png  \n",
      "  inflating: highway/bbox_highway/train/images/Suwon_CH02_20200722_1600_WED_9m_RH_highway_TW5_rainy_FHD_083.png  \n",
      "  inflating: highway/bbox_highway/train/images/Suwon_CH02_20200722_1600_WED_9m_RH_highway_TW5_rainy_FHD_074.png  \n",
      "  inflating: highway/bbox_highway/train/images/Suwon_CH02_20200722_1600_WED_9m_RH_highway_TW5_rainy_FHD_075.png  \n",
      "  inflating: highway/bbox_highway/train/images/Suwon_CH02_20200722_1600_WED_9m_RH_highway_TW5_rainy_FHD_070.png  \n",
      "  inflating: highway/bbox_highway/train/images/Suwon_CH02_20200722_1600_WED_9m_RH_highway_TW5_rainy_FHD_088.png  \n",
      "  inflating: highway/bbox_highway/train/images/Suwon_CH02_20200722_1600_WED_9m_RH_highway_TW5_rainy_FHD_057.png  \n",
      "  inflating: highway/bbox_highway/train/images/Suwon_CH02_20200722_1600_WED_9m_RH_highway_TW5_rainy_FHD_059.png  \n",
      "  inflating: highway/bbox_highway/train/images/Suwon_CH02_20200722_1600_WED_9m_RH_highway_TW5_rainy_FHD_073.png  \n",
      "  inflating: highway/bbox_highway/train/images/Suwon_CH02_20200722_1600_WED_9m_RH_highway_TW5_rainy_FHD_078.png  \n",
      "  inflating: highway/bbox_highway/train/images/Suwon_CH02_20200722_1600_WED_9m_RH_highway_TW5_rainy_FHD_089.png  \n",
      "  inflating: highway/bbox_highway/train/images/Suwon_CH02_20200722_1600_WED_9m_RH_highway_TW5_rainy_FHD_079.png  \n",
      "  inflating: highway/bbox_highway/train/images/Suwon_CH02_20200722_1600_WED_9m_RH_highway_TW5_rainy_FHD_082.png  \n",
      "  inflating: highway/bbox_highway/train/images/Suwon_CH02_20200722_1600_WED_9m_RH_highway_TW5_rainy_FHD_081.png  \n",
      "  inflating: highway/bbox_highway/train/images/Suwon_CH02_20200722_1600_WED_9m_RH_highway_TW5_rainy_FHD_077.png  \n",
      "  inflating: highway/bbox_highway/train/images/Suwon_CH02_20200722_1600_WED_9m_RH_highway_TW5_rainy_FHD_056.png  \n",
      "  inflating: highway/bbox_highway/train/images/Suwon_CH02_20200722_1600_WED_9m_RH_highway_TW5_rainy_FHD_065.png  \n",
      "  inflating: highway/bbox_highway/train/images/Suwon_CH02_20200722_1600_WED_9m_RH_highway_TW5_rainy_FHD_060.png  \n",
      "  inflating: highway/bbox_highway/train/images/Suwon_CH02_20200722_1600_WED_9m_RH_highway_TW5_rainy_FHD_066.png  \n",
      "  inflating: highway/bbox_highway/train/images/Suwon_CH02_20200722_1600_WED_9m_RH_highway_TW5_rainy_FHD_068.png  \n",
      "  inflating: highway/bbox_highway/train/images/Suwon_CH02_20200722_1600_WED_9m_RH_highway_TW5_rainy_FHD_061.png  \n",
      "  inflating: highway/bbox_highway/train/images/Suwon_CH02_20200722_1600_WED_9m_RH_highway_TW5_rainy_FHD_087.png  \n",
      "  inflating: highway/bbox_highway/train/images/Suwon_CH02_20200722_1600_WED_9m_RH_highway_TW5_rainy_FHD_080.png  \n",
      "  inflating: highway/bbox_highway/train/images/Suwon_CH02_20200722_1600_WED_9m_RH_highway_TW5_rainy_FHD_086.png  \n",
      "  inflating: highway/bbox_highway/train/images/Suwon_CH02_20200722_1600_WED_9m_RH_highway_TW5_rainy_FHD_067.png  \n",
      "  inflating: highway/bbox_highway/train/images/Suwon_CH02_20200722_1600_WED_9m_RH_highway_TW5_rainy_FHD_085.png  \n",
      "  inflating: highway/bbox_highway/train/images/Suwon_CH02_20200722_1600_WED_9m_RH_highway_TW5_rainy_FHD_090.png  \n",
      "  inflating: highway/bbox_highway/train/images/Suwon_CH02_20200722_1600_WED_9m_RH_highway_TW5_rainy_FHD_048.png  \n",
      "  inflating: highway/bbox_highway/train/images/Suwon_CH02_20200722_1600_WED_9m_RH_highway_TW5_rainy_FHD_046.png  \n",
      "  inflating: highway/bbox_highway/train/images/Suwon_CH02_20200722_1600_WED_9m_RH_highway_TW5_rainy_FHD_062.png  \n",
      "  inflating: highway/bbox_highway/train/images/Suwon_CH02_20200722_1600_WED_9m_RH_highway_TW5_rainy_FHD_037.png  \n",
      "  inflating: highway/bbox_highway/train/images/Suwon_CH02_20200722_1600_WED_9m_RH_highway_TW5_rainy_FHD_030.png  \n",
      "  inflating: highway/bbox_highway/train/images/Suwon_CH02_20200722_1600_WED_9m_RH_highway_TW5_rainy_FHD_015.png  \n",
      "  inflating: highway/bbox_highway/train/images/Suwon_CH02_20200722_1600_WED_9m_RH_highway_TW5_rainy_FHD_047.png  \n",
      "  inflating: highway/bbox_highway/train/images/Suwon_CH02_20200722_1600_WED_9m_RH_highway_TW5_rainy_FHD_084.png  \n",
      "  inflating: highway/bbox_highway/train/images/Suwon_CH02_20200722_1600_WED_9m_RH_highway_TW5_rainy_FHD_071.png  \n",
      "  inflating: highway/bbox_highway/train/images/Suwon_CH02_20200722_1600_WED_9m_RH_highway_TW5_rainy_FHD_033.png  \n",
      "  inflating: highway/bbox_highway/train/images/Suwon_CH02_20200722_1600_WED_9m_RH_highway_TW5_rainy_FHD_058.png  \n",
      "  inflating: highway/bbox_highway/train/images/Suwon_CH02_20200722_1600_WED_9m_RH_highway_TW5_rainy_FHD_005.png  \n",
      "  inflating: highway/bbox_highway/train/images/Suwon_CH02_20200722_1600_WED_9m_RH_highway_TW5_rainy_FHD_052.png  \n",
      "  inflating: highway/bbox_highway/train/images/Suwon_CH02_20200722_1600_WED_9m_RH_highway_TW5_rainy_FHD_041.png  \n",
      "  inflating: highway/bbox_highway/train/images/Suwon_CH02_20200722_1600_WED_9m_RH_highway_TW5_rainy_FHD_072.png  \n",
      "  inflating: highway/bbox_highway/train/images/Suwon_CH02_20200722_1600_WED_9m_RH_highway_TW5_rainy_FHD_044.png  \n",
      "  inflating: highway/bbox_highway/train/images/Suwon_CH02_20200722_1600_WED_9m_RH_highway_TW5_rainy_FHD_042.png  \n",
      "  inflating: highway/bbox_highway/train/images/Suwon_CH02_20200722_1600_WED_9m_RH_highway_TW5_rainy_FHD_036.png  \n",
      "  inflating: highway/bbox_highway/train/images/Suwon_CH02_20200722_1600_WED_9m_RH_highway_TW5_rainy_FHD_012.png  \n",
      "  inflating: highway/bbox_highway/train/images/Suwon_CH02_20200722_1600_WED_9m_RH_highway_TW5_rainy_FHD_032.png  \n",
      "  inflating: highway/bbox_highway/train/images/Suwon_CH02_20200722_1600_WED_9m_RH_highway_TW5_rainy_FHD_031.png  \n",
      "  inflating: highway/bbox_highway/train/images/Suwon_CH02_20200722_1600_WED_9m_RH_highway_TW5_rainy_FHD_022.png  \n",
      "  inflating: highway/bbox_highway/train/images/Suwon_CH02_20200722_1600_WED_9m_RH_highway_TW5_rainy_FHD_002.png  \n",
      "  inflating: highway/bbox_highway/train/images/Suwon_CH02_20200722_1600_WED_9m_RH_highway_TW5_rainy_FHD_076.png  \n",
      "  inflating: highway/bbox_highway/train/images/Suwon_CH02_20200722_1600_WED_9m_RH_highway_TW5_rainy_FHD_028.png  \n",
      "  inflating: highway/bbox_highway/train/images/Suwon_CH02_20200722_1600_WED_9m_RH_highway_TW5_rainy_FHD_051.png  \n",
      "  inflating: highway/bbox_highway/train/images/Suwon_CH02_20200722_1600_WED_9m_RH_highway_TW5_rainy_FHD_029.png  \n",
      "  inflating: highway/bbox_highway/train/images/Suwon_CH02_20200722_1600_WED_9m_RH_highway_TW5_rainy_FHD_017.png  \n",
      "  inflating: highway/bbox_highway/train/images/Suwon_CH02_20200722_1600_WED_9m_RH_highway_TW5_rainy_FHD_045.png  \n",
      "  inflating: highway/bbox_highway/train/images/Suwon_CH02_20200722_1600_WED_9m_RH_highway_TW5_rainy_FHD_023.png  \n",
      "  inflating: highway/bbox_highway/train/images/Suwon_CH02_20200722_1600_WED_9m_RH_highway_TW5_rainy_FHD_049.png  \n",
      "  inflating: highway/bbox_highway/train/images/Suwon_CH02_20200722_1600_WED_9m_RH_highway_TW5_rainy_FHD_043.png  \n",
      "  inflating: highway/bbox_highway/train/images/Suwon_CH02_20200722_1600_WED_9m_RH_highway_TW5_rainy_FHD_054.png  \n",
      "  inflating: highway/bbox_highway/train/images/Suwon_CH02_20200722_1600_WED_9m_RH_highway_TW5_rainy_FHD_026.png  \n",
      "  inflating: highway/bbox_highway/train/images/Suwon_CH02_20200722_1600_WED_9m_RH_highway_TW5_rainy_FHD_024.png  \n",
      "  inflating: highway/bbox_highway/train/images/Suwon_CH02_20200722_1600_WED_9m_RH_highway_TW5_rainy_FHD_009.png  \n",
      "  inflating: highway/bbox_highway/train/images/Suwon_CH02_20200722_1600_WED_9m_RH_highway_TW5_rainy_FHD_035.png  \n",
      "  inflating: highway/bbox_highway/train/images/Suwon_CH02_20200722_1600_WED_9m_RH_highway_TW5_rainy_FHD_055.png  \n",
      "  inflating: highway/bbox_highway/train/images/Suwon_CH02_20200722_1600_WED_9m_RH_highway_TW5_rainy_FHD_014.png  \n",
      "  inflating: highway/bbox_highway/train/images/Suwon_CH02_20200722_1600_WED_9m_RH_highway_TW5_rainy_FHD_008.png  \n",
      "  inflating: highway/bbox_highway/train/images/Suwon_CH02_20200722_1600_WED_9m_RH_highway_TW5_rainy_FHD_063.png  \n",
      "  inflating: highway/bbox_highway/train/images/Suwon_CH02_20200722_1600_WED_9m_RH_highway_TW5_rainy_FHD_003.png  \n",
      "  inflating: highway/bbox_highway/train/images/Suwon_CH02_20200722_1600_WED_9m_RH_highway_TW5_rainy_FHD_010.png  \n",
      "  inflating: highway/bbox_highway/train/images/Suwon_CH02_20200722_1600_WED_9m_RH_highway_TW5_rainy_FHD_021.png  \n",
      "  inflating: highway/bbox_highway/train/images/Suwon_CH02_20200722_1600_WED_9m_RH_highway_TW5_rainy_FHD_025.png  \n",
      "  inflating: highway/bbox_highway/train/images/Suwon_CH02_20200722_1600_WED_9m_RH_highway_TW5_rainy_FHD_019.png  \n",
      "  inflating: highway/bbox_highway/train/images/Suwon_CH02_20200722_1600_WED_9m_RH_highway_TW5_rainy_FHD_039.png  \n",
      "  inflating: highway/bbox_highway/train/images/Suwon_CH02_20200722_1600_WED_9m_RH_highway_TW5_rainy_FHD_018.png  \n",
      "  inflating: highway/bbox_highway/train/images/Suwon_CH02_20200722_1600_WED_9m_RH_highway_TW5_rainy_FHD_038.png  \n",
      "  inflating: highway/bbox_highway/train/images/Suwon_CH02_20200722_1600_WED_9m_RH_highway_TW5_rainy_FHD_007.png  \n",
      "  inflating: highway/bbox_highway/train/images/Suwon_CH02_20200722_1600_WED_9m_RH_highway_TW5_rainy_FHD_020.png  \n",
      "  inflating: highway/bbox_highway/train/images/Suwon_CH02_20200722_1600_WED_9m_RH_highway_TW5_rainy_FHD_053.png  \n",
      "  inflating: highway/bbox_highway/train/images/Suwon_CH02_20200722_1600_WED_9m_RH_highway_TW5_rainy_FHD_016.png  \n",
      "  inflating: highway/bbox_highway/train/images/Suwon_CH02_20200722_1600_WED_9m_RH_highway_TW5_rainy_FHD_040.png  \n",
      "  inflating: highway/bbox_highway/train/images/Suwon_CH02_20200722_1600_WED_9m_RH_highway_TW5_rainy_FHD_004.png  \n",
      "  inflating: highway/bbox_highway/train/images/Suwon_CH02_20200722_1600_WED_9m_RH_highway_TW5_rainy_FHD_001.png  \n",
      "  inflating: highway/bbox_highway/train/images/Suwon_CH02_20200722_1600_WED_9m_RH_highway_TW5_rainy_FHD_013.png  \n",
      "  inflating: highway/bbox_highway/train/images/Suwon_CH02_20200722_1600_WED_9m_RH_highway_TW5_rainy_FHD_011.png  \n",
      "  inflating: highway/bbox_highway/train/images/Suwon_CH02_20200722_1600_WED_9m_RH_highway_TW5_rainy_FHD_006.png  \n",
      "  inflating: highway/bbox_highway/train/labels/Suwon_CH02_20200722_1600_WED_9m_RH_highway_TW5_rainy_FHD_001.txt  \n",
      "  inflating: highway/bbox_highway/train/images/Suwon_CH02_20200722_1600_WED_9m_RH_highway_TW5_rainy_FHD_050.png  \n",
      "  inflating: highway/bbox_highway/train/images/Suwon_CH02_20200722_1600_WED_9m_RH_highway_TW5_rainy_FHD_027.png  \n",
      "  inflating: highway/bbox_highway/train/images/Suwon_CH02_20200722_1600_WED_9m_RH_highway_TW5_rainy_FHD_034.png  \n",
      "  inflating: highway/bbox_highway/train/labels/Suwon_CH02_20200722_1600_WED_9m_RH_highway_TW5_rainy_FHD_053.txt  \n"
     ]
    }
   ],
   "source": [
    "!unzip {zipPath} -d highway"
   ]
  },
  {
   "cell_type": "markdown",
   "metadata": {},
   "source": [
    "---"
   ]
  },
  {
   "cell_type": "markdown",
   "metadata": {
    "tags": []
   },
   "source": [
    "# xml 파일 내용 가지고 원하는 값으로 변환해서 리스트 생성"
   ]
  },
  {
   "cell_type": "code",
   "execution_count": 7,
   "metadata": {
    "colab": {
     "base_uri": "https://localhost:8080/",
     "height": 35
    },
    "executionInfo": {
     "elapsed": 6,
     "status": "ok",
     "timestamp": 1700201788713,
     "user": {
      "displayName": "Seyong Jung",
      "userId": "10440673311570958840"
     },
     "user_tz": -540
    },
    "id": "fvHovDC0ZTOi",
    "outputId": "2ec2047c-68a1-452d-ccde-7ec6f0bf1cf5",
    "tags": []
   },
   "outputs": [
    {
     "data": {
      "text/plain": [
       "'/home/jupyter/highway/bbox_highway/'"
      ]
     },
     "execution_count": 7,
     "metadata": {},
     "output_type": "execute_result"
    }
   ],
   "source": [
    "dataPath ='{}/highway/bbox_highway/'.format(HOME)\n",
    "dataPath"
   ]
  },
  {
   "cell_type": "code",
   "execution_count": null,
   "metadata": {},
   "outputs": [],
   "source": [
    "# xml파일 생긴 모양\n",
    "'''\n",
    "  <image id=\"0\" name=\"Suwon_CH01_20200720_1700_MON_9m_NH_highway_TW5_sunny_FHD_001.png\" width=\"1080\" height=\"1920\">\n",
    "    <box label=\"truck\" occluded=\"0\" xtl=\"862.22\" ytl=\"420.16\" xbr=\"910.65\" ybr=\"467.05\" z_order=\"27\">\n",
    "    </box>\n",
    "    <box label=\"truck\" occluded=\"0\" xtl=\"963.68\" ytl=\"410.17\" xbr=\"1015.19\" ybr=\"446.29\" z_order=\"28\">\n",
    "    </box>\n",
    "    <box label=\"truck\" occluded=\"0\" xtl=\"1014.42\" ytl=\"395.56\" xbr=\"1055.92\" ybr=\"433.23\" z_order=\"29\">\n",
    "    </box>\n",
    "    <box label=\"truck\" occluded=\"0\" xtl=\"780.72\" ytl=\"665.70\" xbr=\"838.94\" ybr=\"751.99\" z_order=\"13\">\n",
    "    </box>\n",
    "    <box label=\"truck\" occluded=\"0\" xtl=\"772.58\" ytl=\"771.40\" xbr=\"937.56\" ybr=\"1009.52\" z_order=\"12\">\n",
    "    </box>\n",
    "    <box label=\"truck\" occluded=\"0\" xtl=\"596.20\" ytl=\"479.35\" xbr=\"647.76\" ybr=\"534.69\" z_order=\"25\">\n",
    "    </box>\n",
    "    <box label=\"truck\" occluded=\"0\" xtl=\"524.77\" ytl=\"489.34\" xbr=\"567.82\" ybr=\"551.60\" z_order=\"24\">\n",
    "    </box>\n",
    "    <box label=\"truck\" occluded=\"0\" xtl=\"767.99\" ytl=\"615.10\" xbr=\"814.67\" ybr=\"671.39\" z_order=\"14\">\n",
    "    </box>\n",
    "    <box label=\"car\" occluded=\"0\" xtl=\"507.64\" ytl=\"747.49\" xbr=\"582.19\" ybr=\"798.56\" z_order=\"3\">\n",
    "    </box>\n",
    "    ...\n",
    "'''"
   ]
  },
  {
   "cell_type": "markdown",
   "metadata": {},
   "source": [
    "박스는 왼쪽 위 점의 x, y 좌표 & 오른쪽 아래 점의 x, y 좌표 가 기록됨. 이걸 가지고 박스의 중심점을 찾아야 함."
   ]
  },
  {
   "cell_type": "markdown",
   "metadata": {
    "id": "5agQuy-Ylqd9"
   },
   "source": [
    "## To convert MS COCO xml to YOLO V8 annotation files"
   ]
  },
  {
   "cell_type": "code",
   "execution_count": 17,
   "metadata": {
    "tags": []
   },
   "outputs": [
    {
     "name": "stdout",
     "output_type": "stream",
     "text": [
      "Collecting lxml\n",
      "  Downloading lxml-4.9.3-cp310-cp310-manylinux_2_28_x86_64.whl.metadata (3.8 kB)\n",
      "Downloading lxml-4.9.3-cp310-cp310-manylinux_2_28_x86_64.whl (7.9 MB)\n",
      "\u001b[2K   \u001b[90m━━━━━━━━━━━━━━━━━━━━━━━━━━━━━━━━━━━━━━━━\u001b[0m \u001b[32m7.9/7.9 MB\u001b[0m \u001b[31m54.2 MB/s\u001b[0m eta \u001b[36m0:00:00\u001b[0m00:01\u001b[0m00:01\u001b[0m\n",
      "\u001b[?25hInstalling collected packages: lxml\n",
      "Successfully installed lxml-4.9.3\n"
     ]
    }
   ],
   "source": [
    "# !pip install lxml"
   ]
  },
  {
   "cell_type": "code",
   "execution_count": 27,
   "metadata": {
    "tags": []
   },
   "outputs": [
    {
     "name": "stdout",
     "output_type": "stream",
     "text": [
      "Collecting numpy==1.23.5\n",
      "  Downloading numpy-1.23.5-cp310-cp310-manylinux_2_17_x86_64.manylinux2014_x86_64.whl (17.1 MB)\n",
      "\u001b[2K     \u001b[90m━━━━━━━━━━━━━━━━━━━━━━━━━━━━━━━━━━━━━━━━\u001b[0m \u001b[32m17.1/17.1 MB\u001b[0m \u001b[31m67.1 MB/s\u001b[0m eta \u001b[36m0:00:00\u001b[0m00:01\u001b[0m00:01\u001b[0m\n",
      "\u001b[?25hInstalling collected packages: numpy\n",
      "  Attempting uninstall: numpy\n",
      "    Found existing installation: numpy 1.25.2\n",
      "    Uninstalling numpy-1.25.2:\n",
      "      Successfully uninstalled numpy-1.25.2\n",
      "Successfully installed numpy-1.23.5\n"
     ]
    }
   ],
   "source": [
    "# !pip install numpy==1.23.5"
   ]
  },
  {
   "cell_type": "code",
   "execution_count": 2,
   "metadata": {
    "tags": []
   },
   "outputs": [],
   "source": [
    "import numpy as np\n",
    "import lxml\n",
    "import os\n",
    "\n",
    "from lxml import etree\n",
    "\n",
    "# image 파일 내 box들의 label 3가지 종류\n",
    "CLASSES = [\"car\", \"bus\", \"truck\"]"
   ]
  },
  {
   "cell_type": "code",
   "execution_count": 3,
   "metadata": {
    "tags": []
   },
   "outputs": [
    {
     "data": {
      "text/plain": [
       "'1.23.5'"
      ]
     },
     "execution_count": 3,
     "metadata": {},
     "output_type": "execute_result"
    }
   ],
   "source": [
    "np.__version__"
   ]
  },
  {
   "cell_type": "code",
   "execution_count": 4,
   "metadata": {
    "tags": []
   },
   "outputs": [],
   "source": [
    "# 박스의 중심점, 가로 길이, 세로 길이 계산해서 변환\n",
    "def to_yolov8(y):\n",
    "  \"\"\"\n",
    "  # change to yolo v8 format\n",
    "  # [x_top_left, y_top_left, x_bottom_right, y_bottom_right] to\n",
    "  # [x_center, y_center, width, height]\n",
    "  \"\"\"\n",
    "  width = y[2] - y[0]\n",
    "  height = y[3] - y[1]\n",
    "\n",
    "  if width < 0 or height < 0:\n",
    "      print(\"ERROR: negative width or height \", width, height, y)\n",
    "      raise AssertionError(\"Negative width or height\")\n",
    "        \n",
    "  return (y[0] + (width/2)), (y[1] + (height/2)), width, height"
   ]
  },
  {
   "cell_type": "code",
   "execution_count": 10,
   "metadata": {
    "tags": []
   },
   "outputs": [],
   "source": [
    "# xml 파일 내용 쪼개서 지저분하게 반복되는 키 값들은 빼주고 value들만 모으기\n",
    "def load_xml_annotations(f):\n",
    "  tree = etree.parse(f)\n",
    "  anns = []\n",
    "  for dim in tree.xpath(\"image\"):\n",
    "    image_filename = dim.attrib[\"name\"]\n",
    "    width = int(dim.attrib[\"width\"])\n",
    "    height = int(dim.attrib[\"height\"])\n",
    "    # print(image_filename)\n",
    "    # print(len(dim.xpath(\"box\")))\n",
    "    boxes = []\n",
    "    for box in dim.xpath(\"box\"):\n",
    "      label = CLASSES.index(box.attrib[\"label\"])\n",
    "      xtl, ytl = box.attrib[\"xtl\"], box.attrib[\"ytl\"]\n",
    "      xbr, ybr = box.attrib[\"xbr\"], box.attrib[\"ybr\"]\n",
    "\n",
    "      xc, yc, w, h = to_yolov8([float(xtl), float(ytl), float(xbr), float(ybr)])  ## 박스의 중심점, 가로 길이, 세로 길이 계산해서 변환\n",
    "      boxes.append([label, round(xc/width, 5), round(yc/height, 5), round(w/width, 5), round(h/height, 5)])  # 변환한 걸 그대로 리턴하지 않고 가로 길이, 세로 길이로 나눠서 스케일링 해준 값을 리턴.\n",
    "\n",
    "    anns.append([image_filename, width, height, boxes])\n",
    "\n",
    "  return np.array(anns, dtype = 'object')"
   ]
  },
  {
   "cell_type": "code",
   "execution_count": 14,
   "metadata": {
    "colab": {
     "base_uri": "https://localhost:8080/"
    },
    "executionInfo": {
     "elapsed": 294,
     "status": "ok",
     "timestamp": 1700201798043,
     "user": {
      "displayName": "Seyong Jung",
      "userId": "10440673311570958840"
     },
     "user_tz": -540
    },
    "id": "AhGrt-3Xk_yK",
    "outputId": "c558a498-258c-4175-cf80-20c75b4cc107",
    "tags": []
   },
   "outputs": [],
   "source": [
    "# 예시로 파일 하나만 잡고 실제 객체 생성\n",
    "fileName = 'Suwon_CH02_20200722_1600_WED_9m_RH_highway_TW5_rainy_FHD.xml'\n",
    "label_file = os.path.join(dataPath, fileName)\n",
    "\n",
    "anns = load_xml_annotations(label_file)"
   ]
  },
  {
   "cell_type": "code",
   "execution_count": 15,
   "metadata": {
    "colab": {
     "base_uri": "https://localhost:8080/"
    },
    "executionInfo": {
     "elapsed": 6,
     "status": "ok",
     "timestamp": 1700203570966,
     "user": {
      "displayName": "Seyong Jung",
      "userId": "10440673311570958840"
     },
     "user_tz": -540
    },
    "id": "QxcGFgyEB3dA",
    "outputId": "9411ba2c-e8c0-4ace-81a5-84ac49748c47",
    "tags": []
   },
   "outputs": [
    {
     "data": {
      "text/plain": [
       "array(['Suwon_CH02_20200722_1600_WED_9m_RH_highway_TW5_rainy_FHD_001.png',\n",
       "       1920, 1080,\n",
       "       list([[2, 0.70172, 0.54471, 0.02857, 0.04529], [2, 0.55315, 0.86765, 0.05567, 0.10332], [2, 0.57988, 0.60055, 0.04291, 0.09265], [2, 0.64396, 0.64562, 0.0337, 0.05186], [0, 0.62288, 0.57988, 0.02068, 0.03288], [0, 0.65474, 0.7765, 0.04248, 0.08641], [0, 0.54397, 0.68912, 0.03223, 0.0533], [2, 0.71325, 0.53245, 0.03927, 0.0419], [0, 0.81297, 0.89938, 0.08124, 0.11747]])],\n",
       "      dtype=object)"
      ]
     },
     "execution_count": 15,
     "metadata": {},
     "output_type": "execute_result"
    }
   ],
   "source": [
    "anns[0]"
   ]
  },
  {
   "cell_type": "markdown",
   "metadata": {},
   "source": [
    "여기서 list에 들어간 게 아까 xml 파일에서 image 내 box 하나 하나. 가로 길이 세로 길이로 나눠준 값을 리턴했기 때문에 이미 스케일링이 되어 있는 것."
   ]
  },
  {
   "cell_type": "markdown",
   "metadata": {},
   "source": [
    "# 생성한 리스트를 가지고 폴더 생성, 해당 폴더에 txt 파일 생성"
   ]
  },
  {
   "cell_type": "code",
   "execution_count": 13,
   "metadata": {
    "tags": []
   },
   "outputs": [
    {
     "name": "stdout",
     "output_type": "stream",
     "text": [
      "/home/jupyter\n"
     ]
    }
   ],
   "source": [
    "!pwd"
   ]
  },
  {
   "cell_type": "code",
   "execution_count": 16,
   "metadata": {
    "executionInfo": {
     "elapsed": 368,
     "status": "ok",
     "timestamp": 1700203719520,
     "user": {
      "displayName": "Seyong Jung",
      "userId": "10440673311570958840"
     },
     "user_tz": -540
    },
    "id": "lZFvbDPs_RXP",
    "tags": []
   },
   "outputs": [],
   "source": [
    "import locale\n",
    "locale.getpreferredencoding = lambda: \"UTF-8\""
   ]
  },
  {
   "cell_type": "markdown",
   "metadata": {
    "id": "tJ-WFHusCoE_"
   },
   "source": [
    "맨 위에 먼저 돌려놓으면 아래 코드 에러 나지 않음."
   ]
  },
  {
   "cell_type": "code",
   "execution_count": 24,
   "metadata": {
    "tags": []
   },
   "outputs": [
    {
     "data": {
      "text/plain": [
       "'Suwon_CH02_20200722_1600_WED_9m_RH_highway_TW5_rainy_FHD'"
      ]
     },
     "execution_count": 24,
     "metadata": {},
     "output_type": "execute_result"
    }
   ],
   "source": [
    "folderName = os.path.splitext(fileName)[0]\n",
    "folderName"
   ]
  },
  {
   "cell_type": "code",
   "execution_count": 21,
   "metadata": {
    "colab": {
     "base_uri": "https://localhost:8080/"
    },
    "executionInfo": {
     "elapsed": 322,
     "status": "ok",
     "timestamp": 1700203725241,
     "user": {
      "displayName": "Seyong Jung",
      "userId": "10440673311570958840"
     },
     "user_tz": -540
    },
    "id": "DtxhxxsuCTDA",
    "outputId": "20c95f44-79ad-4f95-97ee-2891e6acbc5d",
    "tags": []
   },
   "outputs": [
    {
     "name": "stdout",
     "output_type": "stream",
     "text": [
      "[Errno 2] No such file or directory: 'highway/bbox_highway/'\n",
      "/home/jupyter/highway/bbox_highway\n"
     ]
    }
   ],
   "source": [
    "%cd highway/bbox_highway/\n",
    "!mkdir {folderName}"
   ]
  },
  {
   "cell_type": "code",
   "execution_count": 30,
   "metadata": {
    "tags": []
   },
   "outputs": [
    {
     "name": "stdout",
     "output_type": "stream",
     "text": [
      "/home/jupyter/highway/bbox_highway\n",
      "/home/jupyter/highway/bbox_highway/Suwon_CH02_20200722_1600_WED_9m_RH_highway_TW5_rainy_FHD\n"
     ]
    }
   ],
   "source": [
    "thispath = os.getcwd()\n",
    "print(thispath)\n",
    "\n",
    "dirname = os.path.join(thispath, folderName)\n",
    "print(dirname)"
   ]
  },
  {
   "cell_type": "code",
   "execution_count": 25,
   "metadata": {
    "tags": []
   },
   "outputs": [
    {
     "data": {
      "text/plain": [
       "'/home/jupyter/highway/bbox_highway/Suwon_CH02_20200722_1600_WED_9m_RH_highway_TW5_rainy_FHD'"
      ]
     },
     "execution_count": 25,
     "metadata": {},
     "output_type": "execute_result"
    }
   ],
   "source": [
    "dataPath + folderName"
   ]
  },
  {
   "cell_type": "code",
   "execution_count": 33,
   "metadata": {
    "executionInfo": {
     "elapsed": 332,
     "status": "ok",
     "timestamp": 1700204341218,
     "user": {
      "displayName": "Seyong Jung",
      "userId": "10440673311570958840"
     },
     "user_tz": -540
    },
    "id": "_6TPKAzaB6IB",
    "tags": []
   },
   "outputs": [],
   "source": [
    "def write_yolov8_txt(folder, annotation):\n",
    "  out_filename = str(folder + annotation[0][:-3])\n",
    "  out_filename = os.path.splitext(out_filename)[0] + '.txt'\n",
    "\n",
    "  f = open(out_filename,\"w+\")\n",
    "  for box in annotation[3]:\n",
    "    f.write(\"{} {} {} {} {}\\n\".format(box[0], box[1], box[2], box[3], box[4]))\n",
    "\n",
    "    \n",
    "for ann in anns:\n",
    "  write_yolov8_txt(dirname + '/', ann)"
   ]
  },
  {
   "cell_type": "markdown",
   "metadata": {
    "id": "_4H5ODIqHD4X"
   },
   "source": [
    "highway/bbox_highway/파일이름 -> 폴더에 잘 들어갔는지 확인."
   ]
  },
  {
   "cell_type": "markdown",
   "metadata": {},
   "source": [
    "# 트레인, 밸리드, 테스트 폴더 경로 지정"
   ]
  },
  {
   "cell_type": "code",
   "execution_count": 11,
   "metadata": {
    "executionInfo": {
     "elapsed": 346,
     "status": "ok",
     "timestamp": 1700201807289,
     "user": {
      "displayName": "Seyong Jung",
      "userId": "10440673311570958840"
     },
     "user_tz": -540
    },
    "id": "zNKIg-MW55SN"
   },
   "outputs": [],
   "source": [
    "import os\n",
    "from glob import glob\n",
    "\n",
    "trainPath = os.path.join(dataPath,'train')\n",
    "validPath = os.path.join(dataPath,'val')\n",
    "testPath  = os.path.join(dataPath,'test')\n",
    "\n",
    "trainImagesPath = os.path.join(trainPath, 'images')\n",
    "validImagesPath = os.path.join(validPath, 'images')\n",
    "testImagesPath  = os.path.join(testPath,  'images')\n",
    "\n",
    "trainLabelsPath = os.path.join(trainPath, 'labels')\n",
    "validLabelsPath = os.path.join(validPath, 'labels')\n",
    "testLabelsPath  = os.path.join(testPath,  'labels')"
   ]
  },
  {
   "cell_type": "code",
   "execution_count": 12,
   "metadata": {
    "executionInfo": {
     "elapsed": 445,
     "status": "ok",
     "timestamp": 1700201810212,
     "user": {
      "displayName": "Seyong Jung",
      "userId": "10440673311570958840"
     },
     "user_tz": -540
    },
    "id": "jGl6Ezct7fwB"
   },
   "outputs": [],
   "source": [
    "os.makedirs(trainImagesPath, exist_ok=True)\n",
    "os.makedirs(validImagesPath, exist_ok=True)\n",
    "os.makedirs(testImagesPath, exist_ok=True)\n",
    "\n",
    "os.makedirs(trainLabelsPath, exist_ok=True)\n",
    "os.makedirs(validLabelsPath, exist_ok=True)\n",
    "os.makedirs(testLabelsPath, exist_ok=True)"
   ]
  },
  {
   "cell_type": "code",
   "execution_count": 13,
   "metadata": {
    "colab": {
     "base_uri": "https://localhost:8080/",
     "height": 35
    },
    "executionInfo": {
     "elapsed": 405,
     "status": "ok",
     "timestamp": 1700201815873,
     "user": {
      "displayName": "Seyong Jung",
      "userId": "10440673311570958840"
     },
     "user_tz": -540
    },
    "id": "tRuWNZtF7agb",
    "outputId": "42b0cbd3-0162-4922-fa07-9de953afd779"
   },
   "outputs": [
    {
     "data": {
      "application/vnd.google.colaboratory.intrinsic+json": {
       "type": "string"
      },
      "text/plain": [
       "'/content/highway/bbox_highway/train/images'"
      ]
     },
     "execution_count": 13,
     "metadata": {},
     "output_type": "execute_result"
    }
   ],
   "source": [
    "trainImagesPath"
   ]
  },
  {
   "cell_type": "code",
   "execution_count": 15,
   "metadata": {
    "executionInfo": {
     "elapsed": 330,
     "status": "ok",
     "timestamp": 1700201932746,
     "user": {
      "displayName": "Seyong Jung",
      "userId": "10440673311570958840"
     },
     "user_tz": -540
    },
    "id": "85LwDeF57BxM"
   },
   "outputs": [],
   "source": [
    "for filename in glob(os.path.join(trainPath,'*.png')):\n",
    "    basename = os.path.basename(filename)  # 디렉토리 경로 제외하고 파일이름만 출력\n",
    "    os.rename(filename, os.path.join(trainImagesPath,basename))\n",
    "\n",
    "for filename in glob(os.path.join(validPath,'*.png')):\n",
    "    basename = os.path.basename(filename)\n",
    "    os.rename(filename, os.path.join(validImagesPath,basename))\n",
    "\n",
    "for filename in glob(os.path.join(testPath,'*.png')):\n",
    "    basename = os.path.basename(filename)\n",
    "    os.rename(filename, os.path.join(testImagesPath,basename))\n",
    "\n",
    "\n",
    "for filename in glob(os.path.join(trainPath,'*.txt')):\n",
    "    basename = os.path.basename(filename)\n",
    "    os.rename(filename, os.path.join(trainLabelsPath,basename))\n",
    "\n",
    "for filename in glob(os.path.join(validPath,'*.txt')):\n",
    "    basename = os.path.basename(filename)\n",
    "    os.rename(filename, os.path.join(validLabelsPath,basename))\n",
    "\n",
    "for filename in glob(os.path.join(testPath,'*.txt')):\n",
    "    basename = os.path.basename(filename)\n",
    "    os.rename(filename, os.path.join(testLabelsPath,basename))"
   ]
  },
  {
   "cell_type": "code",
   "execution_count": 14,
   "metadata": {
    "executionInfo": {
     "elapsed": 3642,
     "status": "ok",
     "timestamp": 1700201888156,
     "user": {
      "displayName": "Seyong Jung",
      "userId": "10440673311570958840"
     },
     "user_tz": -540
    },
    "id": "xUbjG45srOta"
   },
   "outputs": [],
   "source": [
    "import torch"
   ]
  },
  {
   "cell_type": "code",
   "execution_count": 16,
   "metadata": {
    "colab": {
     "base_uri": "https://localhost:8080/"
    },
    "executionInfo": {
     "elapsed": 321,
     "status": "ok",
     "timestamp": 1700201937588,
     "user": {
      "displayName": "Seyong Jung",
      "userId": "10440673311570958840"
     },
     "user_tz": -540
    },
    "id": "_Sp8S964yARl",
    "outputId": "271c31dd-1f67-4cd2-c02e-836c2f80badb"
   },
   "outputs": [
    {
     "name": "stdout",
     "output_type": "stream",
     "text": [
      "Setup complete. Using torch 2.1.0+cu118     (Tesla T4)\n"
     ]
    }
   ],
   "source": [
    "from IPython.display import Image, clear_output  # to display images\n",
    "\n",
    "clear_output()\n",
    "print(f\"Setup complete. Using torch {torch.__version__} \\\n",
    "    ({torch.cuda.get_device_properties(0).name if torch.cuda.is_available() else 'CPU'})\")"
   ]
  },
  {
   "cell_type": "code",
   "execution_count": null,
   "metadata": {
    "id": "wnWqi2B9v8DO"
   },
   "outputs": [],
   "source": []
  },
  {
   "cell_type": "markdown",
   "metadata": {
    "id": "wD1pTl7FuAVc"
   },
   "source": [
    "# Train Vehicle Detection Model"
   ]
  },
  {
   "cell_type": "code",
   "execution_count": 17,
   "metadata": {
    "colab": {
     "base_uri": "https://localhost:8080/"
    },
    "executionInfo": {
     "elapsed": 338,
     "status": "ok",
     "timestamp": 1700202005444,
     "user": {
      "displayName": "Seyong Jung",
      "userId": "10440673311570958840"
     },
     "user_tz": -540
    },
    "id": "5KxQkgNY1EEz",
    "outputId": "440ccc3c-6b46-4491-88dc-82d13b18ac2c"
   },
   "outputs": [
    {
     "name": "stdout",
     "output_type": "stream",
     "text": [
      "/content/ultralytics\n",
      "total 172\n",
      "drwxr-xr-x 11 root root  4096 Nov 17 05:50 .\n",
      "drwxr-xr-x  1 root root  4096 Nov 17 06:01 ..\n",
      "-rw-r--r--  1 root root   612 Nov 17 05:46 CITATION.cff\n",
      "-rw-r--r--  1 root root  5597 Nov 17 05:46 CONTRIBUTING.md\n",
      "drwxr-xr-x  2 root root  4096 Nov 17 05:46 docker\n",
      "drwxr-xr-x 12 root root  4096 Nov 17 05:46 docs\n",
      "drwxr-xr-x  9 root root  4096 Nov 17 05:46 examples\n",
      "drwxr-xr-x  8 root root  4096 Nov 17 05:46 .git\n",
      "drwxr-xr-x  4 root root  4096 Nov 17 05:46 .github\n",
      "-rw-r--r--  1 root root  2295 Nov 17 05:46 .gitignore\n",
      "drwxr-xr-x  2 root root  4096 Nov 17 05:50 highway\n",
      "drwxr-xr-x  2 root root  4096 Nov 17 05:48 .ipynb_checkpoints\n",
      "-rw-r--r--  1 root root 34523 Nov 17 05:46 LICENSE\n",
      "-rw-r--r--  1 root root   200 Nov 17 05:46 MANIFEST.in\n",
      "-rw-r--r--  1 root root  2316 Nov 17 05:46 .pre-commit-config.yaml\n",
      "-rw-r--r--  1 root root 28562 Nov 17 05:46 README.md\n",
      "-rw-r--r--  1 root root 27586 Nov 17 05:46 README.zh-CN.md\n",
      "-rw-r--r--  1 root root  1244 Nov 17 05:46 requirements.txt\n",
      "-rw-r--r--  1 root root  2016 Nov 17 05:46 setup.cfg\n",
      "-rw-r--r--  1 root root  4004 Nov 17 05:46 setup.py\n",
      "drwxr-xr-x  2 root root  4096 Nov 17 05:46 tests\n",
      "drwxr-xr-x 11 root root  4096 Nov 17 05:46 ultralytics\n"
     ]
    }
   ],
   "source": [
    "%cd ultralytics\n",
    "!ls -al"
   ]
  },
  {
   "cell_type": "code",
   "execution_count": 22,
   "metadata": {
    "colab": {
     "base_uri": "https://localhost:8080/"
    },
    "executionInfo": {
     "elapsed": 5,
     "status": "ok",
     "timestamp": 1700202515041,
     "user": {
      "displayName": "Seyong Jung",
      "userId": "10440673311570958840"
     },
     "user_tz": -540
    },
    "id": "JfArT4Vh90AH",
    "outputId": "591cadd6-f964-40fb-d0ba-fbbb79e619ad"
   },
   "outputs": [
    {
     "name": "stdout",
     "output_type": "stream",
     "text": [
      "/content/highway\n"
     ]
    }
   ],
   "source": [
    "%cd /content/highway"
   ]
  },
  {
   "cell_type": "code",
   "execution_count": 23,
   "metadata": {
    "executionInfo": {
     "elapsed": 4,
     "status": "ok",
     "timestamp": 1700202516618,
     "user": {
      "displayName": "Seyong Jung",
      "userId": "10440673311570958840"
     },
     "user_tz": -540
    },
    "id": "GSIS69MtiEq9"
   },
   "outputs": [],
   "source": [
    "from IPython.core.magic import register_line_cell_magic\n",
    "\n",
    "# yaml에 직접 쓰기를 실행하는 함수\n",
    "@register_line_cell_magic\n",
    "def writetemplate(line, cell):\n",
    "    with open(line, 'w') as f:\n",
    "        f.write(cell.format(**globals()))"
   ]
  },
  {
   "cell_type": "code",
   "execution_count": 26,
   "metadata": {
    "executionInfo": {
     "elapsed": 302,
     "status": "ok",
     "timestamp": 1700202562906,
     "user": {
      "displayName": "Seyong Jung",
      "userId": "10440673311570958840"
     },
     "user_tz": -540
    },
    "id": "hDuIgphI99VJ"
   },
   "outputs": [],
   "source": [
    "dataYaml='/content/highway/bbox_highway/data.yaml'"
   ]
  },
  {
   "cell_type": "code",
   "execution_count": 27,
   "metadata": {
    "executionInfo": {
     "elapsed": 4,
     "status": "ok",
     "timestamp": 1700202563424,
     "user": {
      "displayName": "Seyong Jung",
      "userId": "10440673311570958840"
     },
     "user_tz": -540
    },
    "id": "ehDcSGGU8LQS"
   },
   "outputs": [],
   "source": [
    "%%writetemplate {dataYaml}\n",
    "train: /content/highway/bbox_highway/train/images\n",
    "val: /content/highway/bbox_highway/val/images\n",
    "test: /content/highway/bbox_highway/test/images\n",
    "\n",
    "nc: 3\n",
    "names: ['car', 'bus', 'truck']"
   ]
  },
  {
   "cell_type": "code",
   "execution_count": null,
   "metadata": {
    "colab": {
     "base_uri": "https://localhost:8080/"
    },
    "executionInfo": {
     "elapsed": 448896,
     "status": "ok",
     "timestamp": 1700203024115,
     "user": {
      "displayName": "Seyong Jung",
      "userId": "10440673311570958840"
     },
     "user_tz": -540
    },
    "id": "gZRKMQSn1XTn",
    "outputId": "02e3e698-fd62-4e3f-b87a-9d607091379c",
    "tags": []
   },
   "outputs": [
    {
     "name": "stdout",
     "output_type": "stream",
     "text": [
      "\n",
      "                   from  n    params  module                                       arguments                     \n",
      "  0                  -1  1       464  ultralytics.nn.modules.conv.Conv             [3, 16, 3, 2]                 \n",
      "  1                  -1  1      4672  ultralytics.nn.modules.conv.Conv             [16, 32, 3, 2]                \n",
      "  2                  -1  1      7360  ultralytics.nn.modules.block.C2f             [32, 32, 1, True]             \n",
      "  3                  -1  1     18560  ultralytics.nn.modules.conv.Conv             [32, 64, 3, 2]                \n",
      "  4                  -1  2     49664  ultralytics.nn.modules.block.C2f             [64, 64, 2, True]             \n",
      "  5                  -1  1     73984  ultralytics.nn.modules.conv.Conv             [64, 128, 3, 2]               \n",
      "  6                  -1  2    197632  ultralytics.nn.modules.block.C2f             [128, 128, 2, True]           \n",
      "  7                  -1  1    295424  ultralytics.nn.modules.conv.Conv             [128, 256, 3, 2]              \n",
      "  8                  -1  1    460288  ultralytics.nn.modules.block.C2f             [256, 256, 1, True]           \n",
      "  9                  -1  1    164608  ultralytics.nn.modules.block.SPPF            [256, 256, 5]                 \n",
      " 10                  -1  1         0  torch.nn.modules.upsampling.Upsample         [None, 2, 'nearest']          \n",
      " 11             [-1, 6]  1         0  ultralytics.nn.modules.conv.Concat           [1]                           \n",
      " 12                  -1  1    148224  ultralytics.nn.modules.block.C2f             [384, 128, 1]                 \n",
      " 13                  -1  1         0  torch.nn.modules.upsampling.Upsample         [None, 2, 'nearest']          \n",
      " 14             [-1, 4]  1         0  ultralytics.nn.modules.conv.Concat           [1]                           \n",
      " 15                  -1  1     37248  ultralytics.nn.modules.block.C2f             [192, 64, 1]                  \n",
      " 16                  -1  1     36992  ultralytics.nn.modules.conv.Conv             [64, 64, 3, 2]                \n",
      " 17            [-1, 12]  1         0  ultralytics.nn.modules.conv.Concat           [1]                           \n",
      " 18                  -1  1    123648  ultralytics.nn.modules.block.C2f             [192, 128, 1]                 \n",
      " 19                  -1  1    147712  ultralytics.nn.modules.conv.Conv             [128, 128, 3, 2]              \n",
      " 20             [-1, 9]  1         0  ultralytics.nn.modules.conv.Concat           [1]                           \n",
      " 21                  -1  1    493056  ultralytics.nn.modules.block.C2f             [384, 256, 1]                 \n",
      " 22        [15, 18, 21]  1    897664  ultralytics.nn.modules.head.Detect           [80, [64, 128, 256]]          \n",
      "YOLOv8n summary: 225 layers, 3157200 parameters, 3157184 gradients, 8.9 GFLOPs\n",
      "\n",
      "Transferred 355/355 items from pretrained weights\n",
      "Ultralytics YOLOv8.0.215 🚀 Python-3.10.13 torch-1.13.1+cu117 CUDA:0 (Tesla V100-SXM2-16GB, 16161MiB)\n",
      "                                                              CUDA:1 (Tesla V100-SXM2-16GB, 16161MiB)\n",
      "WARNING ⚠️ Upgrade to torch>=2.0.0 for deterministic training.\n",
      "\u001b[34m\u001b[1mengine/trainer: \u001b[0mtask=detect, mode=train, model=yolov8n.yaml, data=/home/jupyter/highway/bbox_highway/data.yaml, epochs=10, patience=50, batch=128, imgsz=640, save=True, save_period=-1, cache=False, device=[0, 1], workers=8, project=None, name=train3, exist_ok=False, pretrained=True, optimizer=auto, verbose=True, seed=0, deterministic=True, single_cls=False, rect=False, cos_lr=False, close_mosaic=10, resume=False, amp=True, fraction=1.0, profile=False, freeze=None, overlap_mask=True, mask_ratio=4, dropout=0.0, val=True, split=val, save_json=False, save_hybrid=False, conf=None, iou=0.7, max_det=300, half=False, dnn=False, plots=True, source=None, show=False, save_txt=False, save_conf=False, save_crop=False, show_labels=True, show_conf=True, vid_stride=1, stream_buffer=False, line_width=None, visualize=False, augment=False, agnostic_nms=False, classes=None, retina_masks=False, boxes=True, format=torchscript, keras=False, optimize=False, int8=False, dynamic=False, simplify=False, opset=None, workspace=4, nms=False, lr0=0.01, lrf=0.01, momentum=0.937, weight_decay=0.0005, warmup_epochs=3.0, warmup_momentum=0.8, warmup_bias_lr=0.1, box=7.5, cls=0.5, dfl=1.5, pose=12.0, kobj=1.0, label_smoothing=0.0, nbs=64, hsv_h=0.015, hsv_s=0.7, hsv_v=0.4, degrees=0.0, translate=0.1, scale=0.5, shear=0.0, perspective=0.0, flipud=0.0, fliplr=0.5, mosaic=1.0, mixup=0.0, copy_paste=0.0, cfg=None, tracker=botsort.yaml, save_dir=/home/jupyter/ultralytics/runs/detect/train3\n",
      "Overriding model.yaml nc=80 with nc=3\n",
      "\n",
      "                   from  n    params  module                                       arguments                     \n",
      "  0                  -1  1       464  ultralytics.nn.modules.conv.Conv             [3, 16, 3, 2]                 \n",
      "  1                  -1  1      4672  ultralytics.nn.modules.conv.Conv             [16, 32, 3, 2]                \n",
      "  2                  -1  1      7360  ultralytics.nn.modules.block.C2f             [32, 32, 1, True]             \n",
      "  3                  -1  1     18560  ultralytics.nn.modules.conv.Conv             [32, 64, 3, 2]                \n",
      "  4                  -1  2     49664  ultralytics.nn.modules.block.C2f             [64, 64, 2, True]             \n",
      "  5                  -1  1     73984  ultralytics.nn.modules.conv.Conv             [64, 128, 3, 2]               \n",
      "  6                  -1  2    197632  ultralytics.nn.modules.block.C2f             [128, 128, 2, True]           \n",
      "  7                  -1  1    295424  ultralytics.nn.modules.conv.Conv             [128, 256, 3, 2]              \n",
      "  8                  -1  1    460288  ultralytics.nn.modules.block.C2f             [256, 256, 1, True]           \n",
      "  9                  -1  1    164608  ultralytics.nn.modules.block.SPPF            [256, 256, 5]                 \n",
      " 10                  -1  1         0  torch.nn.modules.upsampling.Upsample         [None, 2, 'nearest']          \n",
      " 11             [-1, 6]  1         0  ultralytics.nn.modules.conv.Concat           [1]                           \n",
      " 12                  -1  1    148224  ultralytics.nn.modules.block.C2f             [384, 128, 1]                 \n",
      " 13                  -1  1         0  torch.nn.modules.upsampling.Upsample         [None, 2, 'nearest']          \n",
      " 14             [-1, 4]  1         0  ultralytics.nn.modules.conv.Concat           [1]                           \n",
      " 15                  -1  1     37248  ultralytics.nn.modules.block.C2f             [192, 64, 1]                  \n",
      " 16                  -1  1     36992  ultralytics.nn.modules.conv.Conv             [64, 64, 3, 2]                \n",
      " 17            [-1, 12]  1         0  ultralytics.nn.modules.conv.Concat           [1]                           \n",
      " 18                  -1  1    123648  ultralytics.nn.modules.block.C2f             [192, 128, 1]                 \n",
      " 19                  -1  1    147712  ultralytics.nn.modules.conv.Conv             [128, 128, 3, 2]              \n",
      " 20             [-1, 9]  1         0  ultralytics.nn.modules.conv.Concat           [1]                           \n",
      " 21                  -1  1    493056  ultralytics.nn.modules.block.C2f             [384, 256, 1]                 \n",
      " 22        [15, 18, 21]  1    751897  ultralytics.nn.modules.head.Detect           [3, [64, 128, 256]]           \n",
      "YOLOv8n summary: 225 layers, 3011433 parameters, 3011417 gradients, 8.2 GFLOPs\n",
      "\n",
      "Transferred 319/355 items from pretrained weights\n",
      "\u001b[34m\u001b[1mDDP:\u001b[0m debug command /opt/conda/bin/python -m torch.distributed.run --nproc_per_node 2 --master_port 36265 /home/jupyter/.config/Ultralytics/DDP/_temp_6av7j5l6140642007530080.py\n"
     ]
    },
    {
     "name": "stderr",
     "output_type": "stream",
     "text": [
      "WARNING:__main__:\n",
      "*****************************************\n",
      "Setting OMP_NUM_THREADS environment variable for each process to be 1 in default, to avoid your system being overloaded, please further tune the variable for optimal performance in your application as needed. \n",
      "*****************************************\n"
     ]
    },
    {
     "name": "stdout",
     "output_type": "stream",
     "text": [
      "Ultralytics YOLOv8.0.215 🚀 Python-3.10.13 torch-1.13.1+cu117 CUDA:0 (Tesla V100-SXM2-16GB, 16161MiB)\n",
      "                                                              CUDA:1 (Tesla V100-SXM2-16GB, 16161MiB)\n",
      "WARNING ⚠️ Upgrade to torch>=2.0.0 for deterministic training.\n",
      "\u001b[34m\u001b[1mTensorBoard: \u001b[0mStart with 'tensorboard --logdir /home/jupyter/ultralytics/runs/detect/train3', view at http://localhost:6006/\n",
      "Overriding model.yaml nc=80 with nc=3\n",
      "Freezing layer 'model.22.dfl.conv.weight'\n",
      "\u001b[34m\u001b[1mAMP: \u001b[0mrunning Automatic Mixed Precision (AMP) checks with YOLOv8n...\n",
      "\u001b[34m\u001b[1mAMP: \u001b[0mchecks passed ✅\n"
     ]
    },
    {
     "name": "stderr",
     "output_type": "stream",
     "text": [
      "\u001b[34m\u001b[1mtrain: \u001b[0mScanning /home/jupyter/highway/bbox_highway/train/labels.cache... 19775 images, 0 backgrounds, 0 corrupt: 100%|██████████| 19775/19775 [00:00<?, ?it/s]\n",
      "\u001b[34m\u001b[1mval: \u001b[0mScanning /home/jupyter/highway/bbox_highway/val/labels.cache... 4176 images, 150 backgrounds, 0 corrupt: 100%|██████████| 4326/4326 [00:00<?, ?it/s]\n"
     ]
    },
    {
     "name": "stdout",
     "output_type": "stream",
     "text": [
      "Plotting labels to /home/jupyter/ultralytics/runs/detect/train3/labels.jpg... \n",
      "\u001b[34m\u001b[1moptimizer:\u001b[0m 'optimizer=auto' found, ignoring 'lr0=0.01' and 'momentum=0.937' and determining best 'optimizer', 'lr0' and 'momentum' automatically... \n",
      "\u001b[34m\u001b[1moptimizer:\u001b[0m AdamW(lr=0.000714, momentum=0.9) with parameter groups 57 weight(decay=0.0), 64 weight(decay=0.001), 63 bias(decay=0.0)\n",
      "Image sizes 640 train, 640 val\n",
      "Using 4 dataloader workers\n",
      "Logging results to \u001b[1m/home/jupyter/ultralytics/runs/detect/train3\u001b[0m\n",
      "Starting training for 10 epochs...\n",
      "Closing dataloader mosaic\n",
      "\n",
      "      Epoch    GPU_mem   box_loss   cls_loss   dfl_loss  Instances       Size\n"
     ]
    },
    {
     "name": "stderr",
     "output_type": "stream",
     "text": [
      "       1/10      11.9G       3.54      3.361      3.175        549        640: 100%|██████████| 155/155 [22:55<00:00,  8.87s/it]\n",
      "                 Class     Images  Instances      Box(P          R      mAP50  mAP50-95): 100%|██████████| 34/34 [04:23<00:00,  7.76s/it]\n"
     ]
    },
    {
     "name": "stdout",
     "output_type": "stream",
     "text": [
      "                   all       4326      64180      0.233      0.112     0.0923     0.0358\n",
      "\n",
      "      Epoch    GPU_mem   box_loss   cls_loss   dfl_loss  Instances       Size\n"
     ]
    },
    {
     "name": "stderr",
     "output_type": "stream",
     "text": [
      "       2/10      10.7G      1.852      1.578      1.441        542        640: 100%|██████████| 155/155 [24:41<00:00,  9.56s/it]\n",
      "                 Class     Images  Instances      Box(P          R      mAP50  mAP50-95): 100%|██████████| 34/34 [04:29<00:00,  7.94s/it]\n"
     ]
    },
    {
     "name": "stdout",
     "output_type": "stream",
     "text": [
      "                   all       4326      64180      0.383      0.291      0.284       0.15\n",
      "\n",
      "      Epoch    GPU_mem   box_loss   cls_loss   dfl_loss  Instances       Size\n"
     ]
    },
    {
     "name": "stderr",
     "output_type": "stream",
     "text": [
      "       3/10      11.3G      1.452      1.189      1.171        520        640: 100%|██████████| 155/155 [24:23<00:00,  9.45s/it]\n",
      "                 Class     Images  Instances      Box(P          R      mAP50  mAP50-95): 100%|██████████| 34/34 [04:26<00:00,  7.84s/it]\n"
     ]
    },
    {
     "name": "stdout",
     "output_type": "stream",
     "text": [
      "                   all       4326      64180      0.456      0.365       0.35      0.209\n",
      "\n",
      "      Epoch    GPU_mem   box_loss   cls_loss   dfl_loss  Instances       Size\n"
     ]
    },
    {
     "name": "stderr",
     "output_type": "stream",
     "text": [
      "       4/10      11.2G      1.271     0.9951      1.075        593        640: 100%|██████████| 155/155 [24:14<00:00,  9.39s/it]\n",
      "                 Class     Images  Instances      Box(P          R      mAP50  mAP50-95): 100%|██████████| 34/34 [04:20<00:00,  7.66s/it]\n"
     ]
    },
    {
     "name": "stdout",
     "output_type": "stream",
     "text": [
      "                   all       4326      64180      0.506      0.477      0.458      0.297\n",
      "\n",
      "      Epoch    GPU_mem   box_loss   cls_loss   dfl_loss  Instances       Size\n"
     ]
    },
    {
     "name": "stderr",
     "output_type": "stream",
     "text": [
      "       5/10      11.7G      1.179     0.8981      1.029        527        640: 100%|██████████| 155/155 [24:08<00:00,  9.35s/it]\n",
      "                 Class     Images  Instances      Box(P          R      mAP50  mAP50-95): 100%|██████████| 34/34 [04:18<00:00,  7.61s/it]\n"
     ]
    },
    {
     "name": "stdout",
     "output_type": "stream",
     "text": [
      "                   all       4326      64180      0.569      0.494      0.504      0.337\n",
      "\n",
      "      Epoch    GPU_mem   box_loss   cls_loss   dfl_loss  Instances       Size\n"
     ]
    },
    {
     "name": "stderr",
     "output_type": "stream",
     "text": [
      "       6/10      11.7G      1.112     0.8259     0.9952        573        640: 100%|██████████| 155/155 [24:06<00:00,  9.33s/it]\n",
      "                 Class     Images  Instances      Box(P          R      mAP50  mAP50-95): 100%|██████████| 34/34 [04:24<00:00,  7.77s/it]\n"
     ]
    },
    {
     "name": "stdout",
     "output_type": "stream",
     "text": [
      "                   all       4326      64180      0.591      0.512      0.522      0.355\n",
      "\n",
      "      Epoch    GPU_mem   box_loss   cls_loss   dfl_loss  Instances       Size\n"
     ]
    },
    {
     "name": "stderr",
     "output_type": "stream",
     "text": [
      "       7/10      10.4G      1.083     0.7995     0.9838       1092        640:  17%|█▋        | 26/155 [04:10<16:57,  7.89s/it]Traceback (most recent call last):\n",
      "  File \"/opt/conda/lib/python3.10/site-packages/torch/nn/parallel/distributed.py\", line 1621, in _sync_buffers\n",
      "    self._sync_module_buffers(authoritative_rank)\n",
      "  File \"/opt/conda/lib/python3.10/site-packages/torch/nn/parallel/distributed.py\", line 1625, in _sync_module_buffers\n",
      "    self._default_broadcast_coalesced(authoritative_rank=authoritative_rank)\n",
      "  File \"/opt/conda/lib/python3.10/site-packages/torch/nn/parallel/distributed.py\", line 1646, in _default_broadcast_coalesced\n",
      "    self._distributed_broadcast_coalesced(\n",
      "  File \"/opt/conda/lib/python3.10/site-packages/torch/nn/parallel/distributed.py\", line 1562, in _distributed_broadcast_coalesced\n",
      "    dist._broadcast_coalesced(\n",
      "RuntimeError: Broken pipe\n",
      "\n",
      "During handling of the above exception, another exception occurred:\n",
      "\n",
      "Traceback (most recent call last):\n",
      "  File \"/home/jupyter/.config/Ultralytics/DDP/_temp_5b7z1v46140642736335184.py\", line 12, in <module>\n",
      "  File \"/home/jupyter/ultralytics/ultralytics/engine/trainer.py\", line 190, in train\n",
      "    self._do_train(world_size)\n",
      "  File \"/home/jupyter/ultralytics/ultralytics/engine/trainer.py\", line 337, in _do_train\n",
      "    self.loss, self.loss_items = self.model(batch)\n",
      "  File \"/opt/conda/lib/python3.10/site-packages/torch/nn/modules/module.py\", line 1194, in _call_impl\n",
      "    return forward_call(*input, **kwargs)\n",
      "  File \"/opt/conda/lib/python3.10/site-packages/torch/nn/parallel/distributed.py\", line 1034, in forward\n",
      "    self._sync_buffers()\n",
      "  File \"/opt/conda/lib/python3.10/site-packages/torch/nn/parallel/distributed.py\", line 1621, in _sync_buffers\n",
      "    self._sync_module_buffers(authoritative_rank)\n",
      "KeyboardInterrupt\n",
      "       7/10      12.3G      1.075     0.7922     0.9778        991        640:  86%|████████▋ | 134/155 [20:48<02:42,  7.72s/it]"
     ]
    }
   ],
   "source": [
    "from ultralytics import YOLO\n",
    "\n",
    "# Load a model\n",
    "# model = YOLO('yolov8n.yaml')  # build a new model from YAML\n",
    "# model = YOLO('yolov8n.pt')  # load a pretrained model (recommended for training)\n",
    "model = YOLO('yolov8n.yaml').load('yolov8n.pt')  # build from YAML and transfer weights\n",
    "\n",
    "# Train the model\n",
    "yamlPath = '{}/highway/bbox_highway/data.yaml'.format(HOME)\n",
    "results = model.train(data=yamlPath, epochs=10, imgsz=640, batch = 128, device=[0, 1])"
   ]
  },
  {
   "cell_type": "code",
   "execution_count": null,
   "metadata": {
    "colab": {
     "base_uri": "https://localhost:8080/",
     "height": 35
    },
    "executionInfo": {
     "elapsed": 830,
     "status": "ok",
     "timestamp": 1698298983118,
     "user": {
      "displayName": "박희진",
      "userId": "04727579243057026808"
     },
     "user_tz": -540
    },
    "id": "uoLi4QpfOsV0",
    "outputId": "3a067a32-814b-41af-e4a0-f37c37e1a1ea"
   },
   "outputs": [
    {
     "data": {
      "application/vnd.google.colaboratory.intrinsic+json": {
       "type": "string"
      },
      "text/plain": [
       "'/content/ultralytics/ultralytics'"
      ]
     },
     "execution_count": 64,
     "metadata": {},
     "output_type": "execute_result"
    }
   ],
   "source": [
    "import os\n",
    "os.getcwd()"
   ]
  },
  {
   "cell_type": "code",
   "execution_count": null,
   "metadata": {
    "id": "jz_zEVzeQfpl"
   },
   "outputs": [],
   "source": [
    "testImages = '{}/highway/bbox_highway/test/images'.format(HOME)\n",
    "from glob import glob\n",
    "\n",
    "testList =[]\n",
    "for filename in glob(os.path.join(testImages, '*.png')):\n",
    "    testList.append(filename)"
   ]
  },
  {
   "cell_type": "code",
   "execution_count": null,
   "metadata": {
    "colab": {
     "base_uri": "https://localhost:8080/"
    },
    "executionInfo": {
     "elapsed": 2,
     "status": "ok",
     "timestamp": 1698294981204,
     "user": {
      "displayName": "박희진",
      "userId": "04727579243057026808"
     },
     "user_tz": -540
    },
    "id": "YU6uuXjmREDN",
    "outputId": "c61286e1-1bd4-4b10-c6ff-bd5c8e04c987"
   },
   "outputs": [
    {
     "data": {
      "text/plain": [
       "['/content/drive/MyDrive/Proj/고속도로CCTV데이터기반차량인식/data/bbox_highway/test/images/Suwon_CH02_20200722_1600_WED_9m_RH_highway_TW5_rainy_FHD_099.png',\n",
       " '/content/drive/MyDrive/Proj/고속도로CCTV데이터기반차량인식/data/bbox_highway/test/images/Suwon_CH02_20200722_1600_WED_9m_RH_highway_TW5_rainy_FHD_097.png',\n",
       " '/content/drive/MyDrive/Proj/고속도로CCTV데이터기반차량인식/data/bbox_highway/test/images/Suwon_CH02_20200722_1600_WED_9m_RH_highway_TW5_rainy_FHD_100.png',\n",
       " '/content/drive/MyDrive/Proj/고속도로CCTV데이터기반차량인식/data/bbox_highway/test/images/Suwon_CH02_20200722_1600_WED_9m_RH_highway_TW5_rainy_FHD_098.png',\n",
       " '/content/drive/MyDrive/Proj/고속도로CCTV데이터기반차량인식/data/bbox_highway/test/images/Suwon_CH02_20200722_1600_WED_9m_RH_highway_TW5_rainy_FHD_096.png']"
      ]
     },
     "execution_count": 34,
     "metadata": {},
     "output_type": "execute_result"
    }
   ],
   "source": [
    "testList"
   ]
  },
  {
   "cell_type": "code",
   "execution_count": null,
   "metadata": {
    "colab": {
     "base_uri": "https://localhost:8080/"
    },
    "executionInfo": {
     "elapsed": 979,
     "status": "ok",
     "timestamp": 1698299792165,
     "user": {
      "displayName": "박희진",
      "userId": "04727579243057026808"
     },
     "user_tz": -540
    },
    "id": "2CY-FOgFW5Gr",
    "outputId": "2330bd36-5c68-4bc0-eedf-325fdbfc7a73"
   },
   "outputs": [
    {
     "name": "stderr",
     "output_type": "stream",
     "text": [
      "\n",
      "0: 384x640 55 cars, 4 buss, 20 trucks, 1: 384x640 8 cars, 9 trucks, 2: 384x640 37 cars, 2 buss, 23 trucks, 3: 384x640 42 cars, 1 bus, 31 trucks, 4: 384x640 13 cars, 4 trucks, 11.4ms\n",
      "Speed: 2.1ms preprocess, 2.3ms inference, 1.6ms postprocess per image at shape (1, 3, 384, 640)\n"
     ]
    }
   ],
   "source": [
    "from ultralytics import YOLO\n",
    "\n",
    "resultList =[]\n",
    "\n",
    "# Load a pretrained YOLOv8n model\n",
    "model = YOLO('/content/ultralytics/ultralytics/runs/detect/train3/weights/best.pt')\n",
    "\n",
    "# Run inference on images\n",
    "results = model(testList)\n",
    "\n",
    "# View results\n",
    "for result in results:\n",
    "    resultList.append(result.cpu().numpy().boxes.cls)  # print the Boxes object containing the detection bounding boxes"
   ]
  },
  {
   "cell_type": "code",
   "execution_count": null,
   "metadata": {
    "colab": {
     "base_uri": "https://localhost:8080/"
    },
    "executionInfo": {
     "elapsed": 467,
     "status": "ok",
     "timestamp": 1698303139115,
     "user": {
      "displayName": "박희진",
      "userId": "04727579243057026808"
     },
     "user_tz": -540
    },
    "id": "VwQbYXzPjk8m",
    "outputId": "23c855c5-d25a-40d7-f0d3-d1178b596098"
   },
   "outputs": [
    {
     "name": "stdout",
     "output_type": "stream",
     "text": [
      "[155, 7, 87]\n",
      "전체 5장의 이미지에서 승용차 155대, 버스 7대, 트럭 87대를 발견하였습니다.\n"
     ]
    }
   ],
   "source": [
    "import pandas as pd\n",
    "sum = [0, 0, 0]\n",
    "\n",
    "for result in resultList:\n",
    "    for i in range(len(sum)):\n",
    "        sum[i] += result.tolist().count(i)\n",
    "print(sum)\n",
    "\n",
    "print(\"전체 {}장의 이미지에서 승용차 {}대, 버스 {}대, 트럭 {}대를 발견하였습니다.\".format(len(resultList), sum[0], sum[1], sum[2]))"
   ]
  },
  {
   "cell_type": "code",
   "execution_count": null,
   "metadata": {
    "id": "lQV3gcuNu91R"
   },
   "outputs": [],
   "source": []
  }
 ],
 "metadata": {
  "accelerator": "GPU",
  "colab": {
   "gpuType": "T4",
   "machine_shape": "hm",
   "provenance": []
  },
  "environment": {
   "kernel": "python3",
   "name": ".m113",
   "type": "gcloud",
   "uri": "gcr.io/deeplearning-platform-release/:m113"
  },
  "kernelspec": {
   "display_name": "Python 3",
   "language": "python",
   "name": "python3"
  },
  "language_info": {
   "codemirror_mode": {
    "name": "ipython",
    "version": 3
   },
   "file_extension": ".py",
   "mimetype": "text/x-python",
   "name": "python",
   "nbconvert_exporter": "python",
   "pygments_lexer": "ipython3",
   "version": "3.10.13"
  }
 },
 "nbformat": 4,
 "nbformat_minor": 4
}
